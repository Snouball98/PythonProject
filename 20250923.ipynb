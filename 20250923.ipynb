{
 "cells": [
  {
   "cell_type": "code",
   "execution_count": 15,
   "id": "a0431d0b",
   "metadata": {},
   "outputs": [
    {
     "name": "stdout",
     "output_type": "stream",
     "text": [
      "나의 이름은 권순우 입니다.\n",
      "나이는 27살입니다.\n",
      "남자입니다\n",
      "coding\n",
      "나의 이름은 권순우 입니다.\n",
      "나이는 27살입니다.\n",
      "남자입니다\n",
      "game\n"
     ]
    }
   ],
   "source": [
    "def say_myself(name,age, man=True, hobby = 'coding'):\n",
    "    print(\"나의 이름은 %s 입니다.\" %name)\n",
    "    print(\"나이는 %d살입니다.\" %age)\n",
    "    if man:\n",
    "        print(\"남자입니다\")\n",
    "    else:\n",
    "        print(\"여자입니다.\")\n",
    "    print(hobby)\n",
    "\n",
    "say_myself(\"권순우\", 27)\n",
    "\n",
    "say_myself(\"권순우\", 27, True, 'game')"
   ]
  },
  {
   "cell_type": "code",
   "execution_count": 12,
   "id": "3b5b85d5",
   "metadata": {},
   "outputs": [
    {
     "name": "stdout",
     "output_type": "stream",
     "text": [
      "None\n",
      "1\n"
     ]
    }
   ],
   "source": [
    "a = 1           #여기 a와 def문의 a는 그냥 다른 친구임\n",
    "\n",
    "def vartest(a):    #괄호 안의 a는 매개 변수 (함수 내부에서 사용하는 변수)  #b로 바꾸면 함수 전체 프로그램에는 어떠한 영향도 x (b = b+1로까지)\n",
    "    a = a + 1\n",
    "\n",
    "print(vartest(a))\n",
    "print(a)"
   ]
  },
  {
   "cell_type": "code",
   "execution_count": 1,
   "id": "d6afbd6f",
   "metadata": {},
   "outputs": [
    {
     "ename": "NameError",
     "evalue": "name 'a' is not defined",
     "output_type": "error",
     "traceback": [
      "\u001b[31m---------------------------------------------------------------------------\u001b[39m",
      "\u001b[31mNameError\u001b[39m                                 Traceback (most recent call last)",
      "\u001b[36mCell\u001b[39m\u001b[36m \u001b[39m\u001b[32mIn[1]\u001b[39m\u001b[32m, line 5\u001b[39m\n\u001b[32m      2\u001b[39m     a=a+\u001b[32m1\u001b[39m\n\u001b[32m      4\u001b[39m vartest(\u001b[32m3\u001b[39m)\n\u001b[32m----> \u001b[39m\u001b[32m5\u001b[39m \u001b[38;5;28mprint\u001b[39m(\u001b[43ma\u001b[49m)\n",
      "\u001b[31mNameError\u001b[39m: name 'a' is not defined"
     ]
    }
   ],
   "source": [
    "def vartest(a):\n",
    "    a=a+1\n",
    "\n",
    "vartest(3)\n",
    "print(a)"
   ]
  },
  {
   "cell_type": "code",
   "execution_count": 4,
   "id": "167ded14",
   "metadata": {},
   "outputs": [
    {
     "name": "stdout",
     "output_type": "stream",
     "text": [
      "1\n",
      "2\n"
     ]
    }
   ],
   "source": [
    "a = 1\n",
    "def vartest():\n",
    "    global a #로컬이 아니라 글로벌 변수로 지정 (밖에 있는 a 끌고 오겠다)\n",
    "    a = a + 1\n",
    "\n",
    "print(a)\n",
    "vartest()\n",
    "print(a)"
   ]
  },
  {
   "cell_type": "code",
   "execution_count": 17,
   "id": "82b705e7",
   "metadata": {},
   "outputs": [
    {
     "name": "stdout",
     "output_type": "stream",
     "text": [
      "[(52, 19, 0), (255, 63, 68), (39, 227, 255), (132, 197, 187)]\n"
     ]
    }
   ],
   "source": [
    "#뭔가를 묶어서 처리 zip 함수\n",
    "# zip(*iterable)\n",
    "\n",
    "r = (52, 255, 39, 132)\n",
    "g = (19, 63, 227, 197)\n",
    "b = (0, 68, 255, 187)\n",
    "\n",
    "#코드 작성\n",
    "img = zip(r, g, b) #압축해서 img에 넣음\n",
    "\n",
    "img = list(zip(r,g,b))\n",
    "print(img)\n",
    "\n",
    "#결과를 zip 타입을 운영, 리턴 / 바로 값을 꺼내서 보여주는게 아니라 접근 시에만 메모리상 해당하는 값을 올려주는 방식\n"
   ]
  },
  {
   "cell_type": "code",
   "execution_count": 18,
   "id": "31655b45",
   "metadata": {},
   "outputs": [
    {
     "name": "stdout",
     "output_type": "stream",
     "text": [
      "<zip object at 0x00000242D1EF4640>\n",
      "[(52, 19, 0), (255, 63, 68), (39, 227, 255), (132, 197, 187)]\n",
      "(52, 19, 0)\n",
      "<class 'tuple'>\n"
     ]
    }
   ],
   "source": [
    "r = (52, 255, 39, 132)\n",
    "g = (19, 63, 227, 197)\n",
    "b = (0, 68, 255, 187)\n",
    "\n",
    "\n",
    "zip_object = zip(r,g,b)\n",
    "print(zip_object)\n",
    "\n",
    "img = list(zip_object)\n",
    "print(img)\n",
    "\n",
    "print(img[0])\n",
    "print(type(img[0]))"
   ]
  },
  {
   "cell_type": "code",
   "execution_count": 19,
   "id": "7d294b5e",
   "metadata": {},
   "outputs": [],
   "source": [
    "fruits = ['apple', 'banana', 'cherry', 'date']"
   ]
  },
  {
   "cell_type": "code",
   "execution_count": 20,
   "id": "934faa66",
   "metadata": {},
   "outputs": [
    {
     "name": "stdout",
     "output_type": "stream",
     "text": [
      "0 apple\n",
      "1 banana\n",
      "2 cherry\n",
      "3 date\n"
     ]
    }
   ],
   "source": [
    "for i in range (len(fruits)) :\n",
    "    print (i, fruits[i])"
   ]
  },
  {
   "cell_type": "markdown",
   "id": "1e80ec6c",
   "metadata": {},
   "source": [
    "enumerate 함수"
   ]
  },
  {
   "cell_type": "markdown",
   "id": "a8c64c98",
   "metadata": {},
   "source": [
    "enumerate(iterable, [start=0])\n",
    "\n",
    "start는 시작 번호 (생략 시 0) 이며 결과는 enumerate 타입\n",
    "\n",
    "item들의 번호를 부여하여 (idx, value)의 튜플 쌍을 생성"
   ]
  },
  {
   "cell_type": "code",
   "execution_count": 21,
   "id": "84ac13b1",
   "metadata": {},
   "outputs": [],
   "source": [
    "f = ('apple', 'banana', 'cherry', 'date')"
   ]
  },
  {
   "cell_type": "code",
   "execution_count": 22,
   "id": "46c03857",
   "metadata": {},
   "outputs": [
    {
     "data": {
      "text/plain": [
       "<enumerate at 0x242d1f28400>"
      ]
     },
     "execution_count": 22,
     "metadata": {},
     "output_type": "execute_result"
    }
   ],
   "source": [
    "enumerate(f)"
   ]
  },
  {
   "cell_type": "code",
   "execution_count": null,
   "id": "9a61f24a",
   "metadata": {},
   "outputs": [
    {
     "data": {
      "text/plain": [
       "{0: 'apple', 1: 'banana', 2: 'cherry', 3: 'date'}"
      ]
     },
     "execution_count": 23,
     "metadata": {},
     "output_type": "execute_result"
    }
   ],
   "source": [
    "dict(enumerate(f)) #딕셔너리 방식으로 출력, 키:값 방식"
   ]
  },
  {
   "cell_type": "code",
   "execution_count": 24,
   "id": "92c5accc",
   "metadata": {},
   "outputs": [
    {
     "data": {
      "text/plain": [
       "{1: 'apple', 2: 'banana', 3: 'cherry', 4: 'date'}"
      ]
     },
     "execution_count": 24,
     "metadata": {},
     "output_type": "execute_result"
    }
   ],
   "source": [
    "enumerate(f,1)\n",
    "dict(enumerate(f,1))"
   ]
  },
  {
   "cell_type": "markdown",
   "id": "f18301d0",
   "metadata": {},
   "source": [
    "Map 함수"
   ]
  },
  {
   "cell_type": "markdown",
   "id": "f10c3c66",
   "metadata": {},
   "source": [
    "map(function, itreable)\n",
    "\n",
    "function에 iterable의 item들을 인자로 전달하여 실행\n",
    "\n",
    "function의 parameter 수 만큼 iterable이 전달되어야 함\n",
    "\n",
    "결과는 map 타입\n",
    "\n",
    "\n",
    "\n"
   ]
  },
  {
   "cell_type": "code",
   "execution_count": null,
   "id": "09a5de7a",
   "metadata": {},
   "outputs": [],
   "source": [
    "# map 함수 없이 1씩 증가\n",
    "\n",
    "my_list = [1,2,3,4,5]\n",
    "# -> [2,3,4,5,6]\n",
    "\n",
    "result = []   #result 리스트값 우선 초기화 해준 후\n",
    "for i in mylist:   #반복문 돌리면서 1씩 추가해주기\n",
    "    result.append(i+1) #list에 요소 추가하는 것이므로 append 사용\n",
    "\n",
    "print(result)"
   ]
  },
  {
   "cell_type": "code",
   "execution_count": null,
   "id": "f6875f5b",
   "metadata": {},
   "outputs": [
    {
     "data": {
      "text/plain": [
       "[2, 3, 4, 5, 6]"
      ]
     },
     "execution_count": 29,
     "metadata": {},
     "output_type": "execute_result"
    }
   ],
   "source": [
    "# map 함수를 활용한 경우\n",
    "\n",
    "my_list = [1,2,3,4,5]\n",
    "# -> [2,3,4,5,6]\n",
    "\n",
    "def add_one(n):\n",
    "    return n + 1\n",
    "\n",
    "result = list(map(add_one, my_list))\n",
    "\n",
    "result\n"
   ]
  },
  {
   "cell_type": "code",
   "execution_count": 33,
   "id": "cdf1e22b",
   "metadata": {},
   "outputs": [
    {
     "data": {
      "text/plain": [
       "[3, -6, 100, 25]"
      ]
     },
     "execution_count": 33,
     "metadata": {},
     "output_type": "execute_result"
    }
   ],
   "source": [
    "#사용자지정함수말고 내장 함수로 해보기\n",
    "\n",
    "my_list = [3.14, -5.6, 100.4, 25.0]\n",
    "\n",
    "result = list(map(round, my_list)) #round = 반올림해서 정수로 만들어주는 함수]\n",
    "\n",
    "result"
   ]
  },
  {
   "cell_type": "markdown",
   "id": "d3c01c06",
   "metadata": {},
   "source": [
    "filter 함수"
   ]
  },
  {
   "cell_type": "markdown",
   "id": "63bf7339",
   "metadata": {},
   "source": [
    "반복 가능한 객체에서 특정 조건에 맞는 요소만 가져옴 (필터링)\n",
    "\n",
    "filter에 지정한 함수의 반환값이 True일 때만 해당 요소를 가져옴\n",
    "\n",
    "filter (함수, 반복가능한 객체)\n"
   ]
  },
  {
   "cell_type": "code",
   "execution_count": 36,
   "id": "c19f8e70",
   "metadata": {},
   "outputs": [],
   "source": [
    "a = [8, 3, 2, 10, 15, 7, 1, 0, 11]"
   ]
  },
  {
   "cell_type": "code",
   "execution_count": 37,
   "id": "c0973f65",
   "metadata": {},
   "outputs": [
    {
     "data": {
      "text/plain": [
       "[8, 7]"
      ]
     },
     "execution_count": 37,
     "metadata": {},
     "output_type": "execute_result"
    }
   ],
   "source": [
    "result = []\n",
    "for i in a:\n",
    "    if i > 5 and i <10 :\n",
    "        result.append(i)\n",
    "\n",
    "result"
   ]
  },
  {
   "cell_type": "code",
   "execution_count": 40,
   "id": "0cbc8a7b",
   "metadata": {},
   "outputs": [],
   "source": [
    "def f(x):\n",
    "    return x > 5 and x <10"
   ]
  },
  {
   "cell_type": "code",
   "execution_count": 39,
   "id": "c4292812",
   "metadata": {},
   "outputs": [
    {
     "data": {
      "text/plain": [
       "[8, 7]"
      ]
     },
     "execution_count": 39,
     "metadata": {},
     "output_type": "execute_result"
    }
   ],
   "source": [
    "list(filter(f,a))"
   ]
  },
  {
   "cell_type": "markdown",
   "id": "3261b9c1",
   "metadata": {},
   "source": [
    "# 람다함수 (익명함수) _ Lambda"
   ]
  },
  {
   "cell_type": "markdown",
   "id": "41f97cda",
   "metadata": {},
   "source": [
    "lambda 매개변수 : 결과\n",
    "\n",
    "def 함수이름(매개변수):\n",
    "    return 결과 -> 이런 식으로 작성 안해도 되는것이 편리함."
   ]
  },
  {
   "cell_type": "markdown",
   "id": "4ac2b810",
   "metadata": {},
   "source": [
    "이름이 없는 함수\n",
    "\n",
    "코드의 간결함과 메모리의 절약이 장점\n",
    "\n",
    "자주 쓰지 않는 / 한 번만 쓰고 버릴 함수 정의할 때 사용하면 좋음\n",
    "\n",
    "코드의 가독성이 높아짐. 짧은 함수 정의로 해결 가능"
   ]
  },
  {
   "cell_type": "code",
   "execution_count": 41,
   "id": "d97c632c",
   "metadata": {},
   "outputs": [
    {
     "data": {
      "text/plain": [
       "[2, 3, 4, 5, 6]"
      ]
     },
     "execution_count": 41,
     "metadata": {},
     "output_type": "execute_result"
    }
   ],
   "source": [
    "my_list = [1,2,3,4,5]\n",
    "# -> [2,3,4,5,6]\n",
    "\n",
    "result = list(map(lambda x : x + 1, my_list))\n",
    "result\n"
   ]
  },
  {
   "cell_type": "code",
   "execution_count": 42,
   "id": "56f85389",
   "metadata": {},
   "outputs": [],
   "source": [
    "a = [8, 3, 2, 10, 15, 7, 1, 0, 11]"
   ]
  },
  {
   "cell_type": "code",
   "execution_count": 43,
   "id": "899da1aa",
   "metadata": {},
   "outputs": [
    {
     "data": {
      "text/plain": [
       "[8, 7]"
      ]
     },
     "execution_count": 43,
     "metadata": {},
     "output_type": "execute_result"
    }
   ],
   "source": [
    "list(filter(lambda x : x>5 and x<10, a))"
   ]
  },
  {
   "cell_type": "code",
   "execution_count": 44,
   "id": "50ed1f0a",
   "metadata": {},
   "outputs": [
    {
     "data": {
      "text/plain": [
       "['apple', 'banana', 'cherry', 'date']"
      ]
     },
     "execution_count": 44,
     "metadata": {},
     "output_type": "execute_result"
    }
   ],
   "source": [
    "fruits"
   ]
  },
  {
   "cell_type": "code",
   "execution_count": 51,
   "id": "acdda855",
   "metadata": {},
   "outputs": [
    {
     "name": "stdout",
     "output_type": "stream",
     "text": [
      "[2, 4]\n"
     ]
    }
   ],
   "source": [
    "numbers = [1,2,3,4,5]\n",
    "even_numbers = list(filter(lambda x : x%2 ==0, numbers))\n",
    "print(even_numbers)"
   ]
  },
  {
   "cell_type": "code",
   "execution_count": 46,
   "id": "51c59055",
   "metadata": {},
   "outputs": [
    {
     "data": {
      "text/plain": [
       "['banana', 'cherry', 'apple', 'date']"
      ]
     },
     "execution_count": 46,
     "metadata": {},
     "output_type": "execute_result"
    }
   ],
   "source": [
    "myfruits = sorted(fruits, key=len, reverse = True)\n",
    "myfruits"
   ]
  },
  {
   "cell_type": "code",
   "execution_count": 47,
   "id": "67a8842d",
   "metadata": {},
   "outputs": [],
   "source": [
    "numbers = [1,2,3,4,5,6]"
   ]
  },
  {
   "cell_type": "code",
   "execution_count": 49,
   "id": "6c51b847",
   "metadata": {},
   "outputs": [
    {
     "data": {
      "text/plain": [
       "[6, 5, 4, 3, 2, 1]"
      ]
     },
     "execution_count": 49,
     "metadata": {},
     "output_type": "execute_result"
    }
   ],
   "source": [
    "my_numbers = sorted(numbers, reverse=True)\n",
    "my_numbers"
   ]
  },
  {
   "cell_type": "code",
   "execution_count": null,
   "id": "1dd6451e",
   "metadata": {},
   "outputs": [
    {
     "name": "stdout",
     "output_type": "stream",
     "text": [
      "2\n",
      "4\n",
      "1\n"
     ]
    }
   ],
   "source": [
    "#for i in points:            #람다 안쓰고 for문 이용할 경우\n",
    "    #print (i[1])  "
   ]
  },
  {
   "cell_type": "code",
   "execution_count": null,
   "id": "d2ce1af6",
   "metadata": {},
   "outputs": [
    {
     "name": "stdout",
     "output_type": "stream",
     "text": [
      "[(4, 1), (5, 1), (1, 2), (3, 4)]\n"
     ]
    }
   ],
   "source": [
    "#두번째 값을 기준으로 정렬\n",
    "\n",
    "points = [(1,2), (3,4), (5,1),(4,1)]\n",
    "#(5,1), (1,2), (3,4)\n",
    "\n",
    "sorted_points = sorted(points, key=lambda x: (x[1],x[0])) #두번째 값이랑 첫번째값 기준이긴 한데 두번째값 먼저\n",
    "\n",
    "print(sorted_points)\n"
   ]
  },
  {
   "cell_type": "markdown",
   "id": "89606e0e",
   "metadata": {},
   "source": [
    "등수구하기 \n",
    "\n",
    "영어 점수와 수학 점수의 평균 점수를 기준으로 학생들의 등수를 매기려고 합니다. 영어 점수와 수학 점수를 담은 2차원 리스트 score가 주어질 때, 영어 점수와 수학 점수의 평균을 기준으로 매긴 등수를 담은 리스트를 return하도록 함수를 만들어주세요 \n",
    "\n",
    "[[80, 70], [90, 50], [40, 70], [50, 80]] -> [1, 2, 4, 3] \n",
    "\n",
    "[[80, 70], [70, 80], [30, 50], [90, 100], [100, 90], [100, 100], [10, 30]] -> [4, 4, 6, 2, 2, 1, 7] \n",
    "\n",
    "평균값 가지는 리스트 -> 평균값 기준 내림차순 정렬 -> 랭크 리스트"
   ]
  },
  {
   "cell_type": "code",
   "execution_count": null,
   "id": "ec9bc6bf",
   "metadata": {},
   "outputs": [],
   "source": [
    "\n",
    "def rank(score):\n",
    "    avg = []\n",
    "    for i, j in score :\n",
    "        # print((i+j)/2)\n",
    "        avg.append((i+j)/2)\n",
    "    #print(avg)\n",
    "    avg_sort = sorted(avg, reverse = True)\n",
    "    #print(avg_sort)\n",
    "\n",
    "    for i in avg:\n",
    "        result.append(avg_sort.index(i) + 1)\n",
    "        \n",
    "    #print (result)\n",
    "\n",
    "    return result\n"
   ]
  },
  {
   "cell_type": "code",
   "execution_count": 70,
   "id": "01a697fa",
   "metadata": {},
   "outputs": [
    {
     "data": {
      "text/plain": [
       "[2, 3, 4, 5, 6, 1, 2, 4, 3]"
      ]
     },
     "execution_count": 70,
     "metadata": {},
     "output_type": "execute_result"
    }
   ],
   "source": [
    "score1 = [[80, 70], [90, 50], [40, 70], [50, 80]]\n",
    "rank(score1)  #[1, 2, 4, 3] "
   ]
  },
  {
   "cell_type": "code",
   "execution_count": 71,
   "id": "530374d5",
   "metadata": {},
   "outputs": [
    {
     "data": {
      "text/plain": [
       "[2, 3, 4, 5, 6, 1, 2, 4, 3, 4, 4, 6, 2, 2, 1, 7]"
      ]
     },
     "execution_count": 71,
     "metadata": {},
     "output_type": "execute_result"
    }
   ],
   "source": [
    "score2 = [[80, 70], [70, 80], [30, 50], [90, 100], [100, 90], [100, 100], [10, 30]]\n",
    "rank(score2) # [4, 4, 6, 2, 2, 1, 7] "
   ]
  },
  {
   "cell_type": "code",
   "execution_count": 72,
   "id": "4a68dcfd",
   "metadata": {},
   "outputs": [],
   "source": [
    "#소수판별함수\n",
    "# [2,3,4,5,6,7,8,9] -> 리스트로 입력했을 때, [True, True, False, True, False, True, False, False]\n",
    "\n",
    "def is_prime(num_list):\n",
    "    result = []\n",
    "    for num in num_list :\n",
    "        isprime = True\n",
    "        for i in range(2, num):\n",
    "            if num % i == 0 :\n",
    "                isprime = False\n",
    "                break\n",
    "        result.append(isprime)\n",
    "    return result"
   ]
  },
  {
   "cell_type": "code",
   "execution_count": 73,
   "id": "a6c148f7",
   "metadata": {},
   "outputs": [
    {
     "data": {
      "text/plain": [
       "[True, True, False, True, False, True, False, False]"
      ]
     },
     "execution_count": 73,
     "metadata": {},
     "output_type": "execute_result"
    }
   ],
   "source": [
    "num = [2,3,4,5,6,7,8,9]\n",
    "\n",
    "is_prime(num)"
   ]
  },
  {
   "cell_type": "markdown",
   "id": "4ab7ed9f",
   "metadata": {},
   "source": [
    "# 모듈"
   ]
  },
  {
   "cell_type": "code",
   "execution_count": null,
   "id": "c3f34800",
   "metadata": {},
   "outputs": [
    {
     "ename": "ModuleNotFoundError",
     "evalue": "No module named 'numpy'",
     "output_type": "error",
     "traceback": [
      "\u001b[31m---------------------------------------------------------------------------\u001b[39m",
      "\u001b[31mModuleNotFoundError\u001b[39m                       Traceback (most recent call last)",
      "\u001b[36mCell\u001b[39m\u001b[36m \u001b[39m\u001b[32mIn[82]\u001b[39m\u001b[32m, line 2\u001b[39m\n\u001b[32m      1\u001b[39m \u001b[38;5;28;01mimport\u001b[39;00m\u001b[38;5;250m \u001b[39m\u001b[34;01mrandom\u001b[39;00m\u001b[38;5;250m \u001b[39m\u001b[38;5;28;01mas\u001b[39;00m\u001b[38;5;250m \u001b[39m\u001b[34;01mr\u001b[39;00m\n\u001b[32m----> \u001b[39m\u001b[32m2\u001b[39m \u001b[38;5;28;01mimport\u001b[39;00m\u001b[38;5;250m \u001b[39m\u001b[34;01mnumpy\u001b[39;00m\n\u001b[32m      4\u001b[39m r.randint(\u001b[32m1\u001b[39m,\u001b[32m100\u001b[39m)\n\u001b[32m      5\u001b[39m r.randrange(\u001b[32m1\u001b[39m,\u001b[32m3\u001b[39m)\n",
      "\u001b[31mModuleNotFoundError\u001b[39m: No module named 'numpy'"
     ]
    }
   ],
   "source": [
    "import random as r\n",
    "r.randint(1,100)\n",
    "r.randrange(1,3)"
   ]
  },
  {
   "cell_type": "code",
   "execution_count": null,
   "id": "8197a698",
   "metadata": {},
   "outputs": [
    {
     "data": {
      "text/plain": [
       "99"
      ]
     },
     "execution_count": 79,
     "metadata": {},
     "output_type": "execute_result"
    }
   ],
   "source": [
    "from random import randint\n",
    "#장점 : 쓸때마다 random 안불러와도 됨\n",
    "#단점 : 다른 모듈 (ex_ randrange) 불러오지를 못함\n",
    "\n",
    "randint(1,100)"
   ]
  },
  {
   "cell_type": "code",
   "execution_count": 84,
   "id": "2e3f47fa",
   "metadata": {},
   "outputs": [
    {
     "data": {
      "text/plain": [
       "[2]"
      ]
     },
     "execution_count": 84,
     "metadata": {},
     "output_type": "execute_result"
    }
   ],
   "source": [
    "from random import *\n",
    "from math import *\n",
    "\n",
    "randint(1,100)\n",
    "randrange(1,3)\n",
    "sample([1,2,3], 1)"
   ]
  },
  {
   "cell_type": "code",
   "execution_count": 86,
   "id": "fe774f1b",
   "metadata": {},
   "outputs": [
    {
     "name": "stdout",
     "output_type": "stream",
     "text": [
      "11.0\n"
     ]
    }
   ],
   "source": [
    "import math\n",
    "from math import *\n",
    "\n",
    "num1 = math.pow(2,3)\n",
    "num2 = math.sqrt(9)\n",
    "\n",
    "print(num1 + num2)"
   ]
  },
  {
   "cell_type": "code",
   "execution_count": 87,
   "id": "45b15156",
   "metadata": {},
   "outputs": [
    {
     "name": "stdout",
     "output_type": "stream",
     "text": [
      "11.0\n"
     ]
    }
   ],
   "source": [
    "from math import pow as p, sqrt as sq #하지만 이 방법으로 얼라이언스 잘 안함 뭘썼는지 모름\n",
    "num1 = p(2,3)\n",
    "num2 = sq(9)\n",
    "\n",
    "print(num1+num2)"
   ]
  },
  {
   "cell_type": "markdown",
   "id": "e2310cac",
   "metadata": {},
   "source": [
    "## 모듈과 함수 연습문제"
   ]
  },
  {
   "cell_type": "markdown",
   "id": "a39ab5f7",
   "metadata": {},
   "source": [
    "### 행운번호 추첨기 (무작위 생성된 6개의 숫자 출력)"
   ]
  },
  {
   "cell_type": "code",
   "execution_count": null,
   "id": "d7034a6a",
   "metadata": {},
   "outputs": [
    {
     "name": "stdout",
     "output_type": "stream",
     "text": [
      "[2, 25, 26, 7, 21]\n"
     ]
    }
   ],
   "source": [
    "import random as r  # 잘못됨 -> 중복 숫자 발생 시, 숫자 5개만 뜸 -> While문으로 작성하기\n",
    "\n",
    "result=[]\n",
    "\n",
    "for i in range (6):\n",
    "    i = r.randint(1,45)\n",
    "    if i not in result :\n",
    "        result.append(i)\n",
    "        i += 1\n",
    "\n",
    "print(result)\n"
   ]
  },
  {
   "cell_type": "code",
   "execution_count": 99,
   "id": "94586540",
   "metadata": {},
   "outputs": [
    {
     "name": "stdout",
     "output_type": "stream",
     "text": [
      "[10, 13, 7, 31, 24, 5]\n"
     ]
    }
   ],
   "source": [
    "import random as r\n",
    "result = []\n",
    "while len(result) < 6 :\n",
    "    num = r.randint(1,45)\n",
    "    if num not in result :\n",
    "        result.append(num)\n",
    "\n",
    "print(result)"
   ]
  },
  {
   "cell_type": "markdown",
   "id": "3a026c7e",
   "metadata": {},
   "source": [
    "### 컴퓨터와 대결하는 가위바위보 게임 만들기"
   ]
  },
  {
   "cell_type": "markdown",
   "id": "e3de99ff",
   "metadata": {},
   "source": [
    "다음 코드가 동작할 수 있도록 checkwin()함수와 continueComfirm()함수를 구현해주세요."
   ]
  },
  {
   "cell_type": "code",
   "execution_count": null,
   "id": "3d62f97b",
   "metadata": {},
   "outputs": [
    {
     "ename": "SyntaxError",
     "evalue": "expected ':' (4183160146.py, line 8)",
     "output_type": "error",
     "traceback": [
      "  \u001b[36mCell\u001b[39m\u001b[36m \u001b[39m\u001b[32mIn[103]\u001b[39m\u001b[32m, line 8\u001b[39m\n\u001b[31m    \u001b[39m\u001b[31mif checkWin\u001b[39m\n                ^\n\u001b[31mSyntaxError\u001b[39m\u001b[31m:\u001b[39m expected ':'\n"
     ]
    }
   ],
   "source": [
    "sel = [ '가위', '바위', '보' ]\n",
    "       \n",
    "import random \n",
    "\n",
    "while True:\n",
    "    user = input (\"가위,바위, 보 !!! : \")\n",
    "    if checkWin "
   ]
  },
  {
   "cell_type": "markdown",
   "id": "3289811c",
   "metadata": {},
   "source": [
    "## 사용자 정의 모듈"
   ]
  },
  {
   "cell_type": "code",
   "execution_count": 1,
   "id": "8d8d281d",
   "metadata": {},
   "outputs": [
    {
     "name": "stdout",
     "output_type": "stream",
     "text": [
      "mymodule안에서의 __name__: mymodule\n",
      "10\n",
      "-2\n"
     ]
    }
   ],
   "source": [
    "import mymodule as mm\n",
    "\n",
    "print(mm.my_add(7,3))\n",
    "print(mm.my_sub(3,5))"
   ]
  },
  {
   "cell_type": "markdown",
   "id": "dad5c15c",
   "metadata": {},
   "source": [
    "# 클래스"
   ]
  },
  {
   "cell_type": "code",
   "execution_count": 5,
   "id": "734a988e",
   "metadata": {},
   "outputs": [],
   "source": [
    "#class는 구분을 위해 대문자로 표기하는게 일반적\n",
    "\n",
    "class Person:\n",
    "    def __init__(self, name, age):       #객체생성 자동으로 불러오는게 __init__\n",
    "        self.name = name\n",
    "        self.age = age\n",
    "\n",
    "    def walk(self):   #walk method 생성\n",
    "        print(f\"{self.name}이(가) 걸어가요\")"
   ]
  },
  {
   "cell_type": "code",
   "execution_count": 6,
   "id": "dc0c4ef0",
   "metadata": {},
   "outputs": [],
   "source": [
    "person1 = Person(\"권순우\", 27) #객체 생성 후, person1 변수에 할당\n"
   ]
  },
  {
   "cell_type": "code",
   "execution_count": 7,
   "id": "efb350e5",
   "metadata": {},
   "outputs": [
    {
     "name": "stdout",
     "output_type": "stream",
     "text": [
      "<class '__main__.Person'>\n"
     ]
    }
   ],
   "source": [
    "print(type(person1))"
   ]
  },
  {
   "cell_type": "code",
   "execution_count": 8,
   "id": "4dce366f",
   "metadata": {},
   "outputs": [
    {
     "name": "stdout",
     "output_type": "stream",
     "text": [
      "권순우이(가) 걸어가요\n"
     ]
    }
   ],
   "source": [
    "person1.walk()"
   ]
  },
  {
   "cell_type": "code",
   "execution_count": 9,
   "id": "dea0209a",
   "metadata": {},
   "outputs": [],
   "source": [
    "person2 = Person(\"김구름\", 2)"
   ]
  },
  {
   "cell_type": "code",
   "execution_count": 10,
   "id": "527b3a69",
   "metadata": {},
   "outputs": [
    {
     "name": "stdout",
     "output_type": "stream",
     "text": [
      "김구름이(가) 걸어가요\n"
     ]
    }
   ],
   "source": [
    "person2.walk()"
   ]
  },
  {
   "cell_type": "code",
   "execution_count": null,
   "id": "8474f8ec",
   "metadata": {},
   "outputs": [],
   "source": [
    "class NewPerson(Person): #Person을 상속받은 NewPerson, 추가 기능 구현 가능\n",
    "    def fly(self):\n",
    "        print(f\"{self.name}이(가) 하늘을 날아요\")\n",
    "    def walk(self):\n",
    "        print(f\"{self.name}이(가) 개 빨리 뛰어다녀요\")"
   ]
  },
  {
   "cell_type": "code",
   "execution_count": 22,
   "id": "1b00225b",
   "metadata": {},
   "outputs": [],
   "source": [
    "person3 = NewPerson(\"김밍키\", 2)"
   ]
  },
  {
   "cell_type": "code",
   "execution_count": 24,
   "id": "8e9bf7d1",
   "metadata": {},
   "outputs": [
    {
     "name": "stdout",
     "output_type": "stream",
     "text": [
      "김밍키이(가) 개 빨리 뛰어다녀요\n"
     ]
    }
   ],
   "source": [
    "person3.walk()"
   ]
  },
  {
   "cell_type": "code",
   "execution_count": 26,
   "id": "9a9aac6b",
   "metadata": {},
   "outputs": [
    {
     "name": "stdout",
     "output_type": "stream",
     "text": [
      "김밍키이(가) 하늘을 날아요\n"
     ]
    }
   ],
   "source": [
    "person3.fly()"
   ]
  },
  {
   "cell_type": "code",
   "execution_count": 27,
   "id": "4996b987",
   "metadata": {},
   "outputs": [],
   "source": [
    "class FourCal:\n",
    "    def setdata(self, first, second):\n",
    "        self.first = first\n",
    "        self.second = second\n",
    "    def add(self):\n",
    "        result = self.first + self.second\n",
    "        return result\n",
    "    def mul(self):\n",
    "        result = self.first * self.second\n",
    "        return result\n",
    "    def sub(self):\n",
    "        result = self.first - self.second\n",
    "        return result\n",
    "    def div(self):\n",
    "        result = self.first / self.second\n",
    "        return result"
   ]
  },
  {
   "cell_type": "code",
   "execution_count": 28,
   "id": "71348139",
   "metadata": {},
   "outputs": [],
   "source": [
    "class SafeFourCal(FourCal):\n",
    "    def div(self):\n",
    "        if self.second == 0:\n",
    "            return 0\n",
    "        else :\n",
    "            return self.first / self.second"
   ]
  },
  {
   "cell_type": "code",
   "execution_count": 39,
   "id": "7412dc18",
   "metadata": {},
   "outputs": [],
   "source": [
    "import mymodule as mm"
   ]
  },
  {
   "cell_type": "code",
   "execution_count": 40,
   "id": "3896f801",
   "metadata": {},
   "outputs": [
    {
     "ename": "AttributeError",
     "evalue": "module 'mymodule' has no attribute 'Character'",
     "output_type": "error",
     "traceback": [
      "\u001b[31m---------------------------------------------------------------------------\u001b[39m",
      "\u001b[31mAttributeError\u001b[39m                            Traceback (most recent call last)",
      "\u001b[36mCell\u001b[39m\u001b[36m \u001b[39m\u001b[32mIn[40]\u001b[39m\u001b[32m, line 1\u001b[39m\n\u001b[32m----> \u001b[39m\u001b[32m1\u001b[39m hero = \u001b[43mmm\u001b[49m\u001b[43m.\u001b[49m\u001b[43mCharacter\u001b[49m(\u001b[33m\"\u001b[39m\u001b[33m전사\u001b[39m\u001b[33m\"\u001b[39m)\n",
      "\u001b[31mAttributeError\u001b[39m: module 'mymodule' has no attribute 'Character'"
     ]
    }
   ],
   "source": [
    "hero = mm.Character(\"전사\")"
   ]
  },
  {
   "cell_type": "code",
   "execution_count": 33,
   "id": "c5c180d8",
   "metadata": {},
   "outputs": [
    {
     "ename": "NameError",
     "evalue": "name 'hero' is not defined",
     "output_type": "error",
     "traceback": [
      "\u001b[31m---------------------------------------------------------------------------\u001b[39m",
      "\u001b[31mNameError\u001b[39m                                 Traceback (most recent call last)",
      "\u001b[36mCell\u001b[39m\u001b[36m \u001b[39m\u001b[32mIn[33]\u001b[39m\u001b[32m, line 1\u001b[39m\n\u001b[32m----> \u001b[39m\u001b[32m1\u001b[39m \u001b[43mhero\u001b[49m.speak()\n",
      "\u001b[31mNameError\u001b[39m: name 'hero' is not defined"
     ]
    }
   ],
   "source": [
    "hero.speak()"
   ]
  },
  {
   "cell_type": "code",
   "execution_count": 34,
   "id": "3acf4ded",
   "metadata": {},
   "outputs": [
    {
     "ename": "AttributeError",
     "evalue": "module 'mymodule' has no attribute 'Character'",
     "output_type": "error",
     "traceback": [
      "\u001b[31m---------------------------------------------------------------------------\u001b[39m",
      "\u001b[31mAttributeError\u001b[39m                            Traceback (most recent call last)",
      "\u001b[36mCell\u001b[39m\u001b[36m \u001b[39m\u001b[32mIn[34]\u001b[39m\u001b[32m, line 1\u001b[39m\n\u001b[32m----> \u001b[39m\u001b[32m1\u001b[39m healer = \u001b[43mmm\u001b[49m\u001b[43m.\u001b[49m\u001b[43mCharacter\u001b[49m(\u001b[33m'\u001b[39m\u001b[33m힐러\u001b[39m\u001b[33m'\u001b[39m)\n",
      "\u001b[31mAttributeError\u001b[39m: module 'mymodule' has no attribute 'Character'"
     ]
    }
   ],
   "source": [
    "healer = mm.Character('힐러')\n"
   ]
  },
  {
   "cell_type": "code",
   "execution_count": 35,
   "id": "ae4d8c53",
   "metadata": {},
   "outputs": [
    {
     "ename": "NameError",
     "evalue": "name 'healer' is not defined",
     "output_type": "error",
     "traceback": [
      "\u001b[31m---------------------------------------------------------------------------\u001b[39m",
      "\u001b[31mNameError\u001b[39m                                 Traceback (most recent call last)",
      "\u001b[36mCell\u001b[39m\u001b[36m \u001b[39m\u001b[32mIn[35]\u001b[39m\u001b[32m, line 1\u001b[39m\n\u001b[32m----> \u001b[39m\u001b[32m1\u001b[39m \u001b[43mhealer\u001b[49m.speak()\n",
      "\u001b[31mNameError\u001b[39m: name 'healer' is not defined"
     ]
    }
   ],
   "source": [
    "healer.speak()"
   ]
  },
  {
   "cell_type": "code",
   "execution_count": 42,
   "id": "c5340794",
   "metadata": {},
   "outputs": [],
   "source": [
    "### 결제시스템\n",
    "#신용카드, 포인트 결제 "
   ]
  },
  {
   "cell_type": "code",
   "execution_count": null,
   "id": "2c6937fd",
   "metadata": {},
   "outputs": [],
   "source": [
    "def pay_credit_payment(card_info, amount):\n",
    "    \"\"\"신용카드 결제 로직 \"\"\"\n",
    "    print(f\"{card_info['card_number']}카드로 {amount}원 결제합니다.\")\n",
    "    print(\"결제 완료\")\n",
    "\n",
    "def pay_with_point(point_wallet, amount):\n",
    "    if point_wallet['balance'] >= amount :\n",
    "        point_wallet['balance'] -= amount\n",
    "        print (f\"포인트 {point_wallet}점을 사용해서 결제했습니다.\")\n",
    "    else:\n",
    "        print(\"포인트가 부족합니다.\")"
   ]
  },
  {
   "cell_type": "code",
   "execution_count": 51,
   "id": "b953deda",
   "metadata": {},
   "outputs": [],
   "source": [
    "credit_card = {\n",
    "    'type' : 'credit_card',\n",
    "    'card_number' : '1234-5678-4321-6543',\n",
    "    'cvc' : 101\n",
    "}\n",
    "\n",
    "my_points = {\n",
    "    'type' : 'point_wallet',\n",
    "    'balance' : 50000\n",
    "}"
   ]
  },
  {
   "cell_type": "code",
   "execution_count": 56,
   "id": "d695f525",
   "metadata": {},
   "outputs": [],
   "source": [
    "def payment(payment_method, amount):\n",
    "    payment_type=payment_method['type']\n",
    "\n",
    "    if payment_type == 'credit_card' :\n",
    "        pay_credit_payment(payment_method, amount)\n",
    "    elif payment_type == 'point_wallet' :\n",
    "        pay_with_point(payment_method, amount)\n",
    "    else :\n",
    "        print(\"지원되지 않는 결제방식입니다.\")"
   ]
  },
  {
   "cell_type": "code",
   "execution_count": 57,
   "id": "664fd739",
   "metadata": {},
   "outputs": [
    {
     "name": "stdout",
     "output_type": "stream",
     "text": [
      "1234-5678-4321-6543카드로 2500원 결제합니다.\n",
      "결제 완료\n",
      "포인트 {'type': 'point_wallet', 'balance': 30000}점을 사용해서 결제했습니다.\n",
      "포인트가 부족합니다.\n"
     ]
    }
   ],
   "source": [
    "payment(credit_card, 2500)\n",
    "payment(my_points, 10000)\n",
    "payment(my_points, 45000)"
   ]
  },
  {
   "cell_type": "code",
   "execution_count": 64,
   "id": "0f7f9880",
   "metadata": {},
   "outputs": [
    {
     "name": "stdout",
     "output_type": "stream",
     "text": [
      "1234-5678-4321-6543카드로 2500원 결제합니다.\n",
      "결제 완료\n",
      "None\n",
      "포인트 {'type': 'point_wallet', 'balance': 10000}점을 사용해서 결제했습니다.\n",
      "None\n",
      "포인트가 부족합니다.\n",
      "None\n"
     ]
    }
   ],
   "source": [
    "class Payment :\n",
    "    def __init__ (self, card_number, amount) :\n",
    "        self.card_number = card_number\n",
    "        self.amount = amount\n",
    "\n",
    "    def pay_credit_payment(card_info, amount):\n",
    "        \"\"\"신용카드 결제 로직 \"\"\"\n",
    "        print(f\"{card_info['card_number']}카드로 {amount}원 결제합니다.\")\n",
    "        print(\"결제 완료\")\n",
    "\n",
    "    def pay_with_point(point_wallet, amount):\n",
    "        if point_wallet['balance'] >= amount :\n",
    "            point_wallet['balance'] -= amount\n",
    "            print (f\"포인트 {point_wallet}점을 사용해서 결제했습니다.\")\n",
    "        else:\n",
    "            print(\"포인트가 부족합니다.\")\n",
    "\n",
    "    credit_card = {\n",
    "        'type' : 'credit_card',\n",
    "        'card_number' : '1234-5678-4321-6543',\n",
    "        'cvc' : 101\n",
    "        }\n",
    "\n",
    "    my_points = {\n",
    "        'type' : 'point_wallet',\n",
    "        'balance' : 50000\n",
    "        }\n",
    "\n",
    "    def payment(payment_method, amount):\n",
    "        payment_type=payment_method['type']\n",
    "\n",
    "        if payment_type == 'credit_card' :\n",
    "            pay_credit_payment(payment_method, amount)\n",
    "        elif payment_type == 'point_wallet' :\n",
    "            pay_with_point(payment_method, amount)\n",
    "        else :\n",
    "            print(\"지원되지 않는 결제방식입니다.\")\n",
    "\n",
    "print(payment(credit_card, 2500))\n",
    "print(payment(my_points, 10000))\n",
    "print(payment(my_points, 45000))"
   ]
  },
  {
   "cell_type": "code",
   "execution_count": 65,
   "id": "f039d0ee",
   "metadata": {},
   "outputs": [],
   "source": [
    "user1 = Payment(\"credit_card\", 2500)\n",
    "user2 = Payment(\"my_points\", 10000)\n",
    "user3 = Payment(\"my_points\", 45000)"
   ]
  },
  {
   "cell_type": "code",
   "execution_count": 95,
   "id": "1c336bc0",
   "metadata": {},
   "outputs": [],
   "source": [
    "class PaymentMethod: #신용카드와 포인트 결제의 공통적인 부분을 부모 클래스로 만든 것\n",
    "    def pay(self, amount):\n",
    "        print(\"f{amount}원을 결제하겠습니다\")\n",
    "\n",
    "class CreditCard(PaymentMethod):\n",
    "    def __init__(self, card_number, cvc):\n",
    "        self.card_number = card_number\n",
    "        self.cvc = cvc\n",
    "\n",
    "    def pay(self, amount):\n",
    "        print(f\"'{self.card_number}' 카드로 {amount}원 결제합니다.\")\n",
    "        # 서버 결제 요청\n",
    "        print(\"카드 결제 완료\")\n",
    "\n",
    "class PointWallet(PaymentMethod):\n",
    "    def __init__(self, balance):\n",
    "        self.balance = balance\n",
    "        \n",
    "    def pay(self, amount):\n",
    "        if self.balance >= amount :\n",
    "            self.balance -= amount\n",
    "            print (f\"포인트 {amount}점을 사용해서 결제했습니다.\")\n",
    "            print (f\"포인트 잔액은 {self.balance}원입니다.\")\n",
    "        else:\n",
    "            print(\"포인트가 부족합니다.\")\n",
    "            print(f\"부족한 포인트 금액은 {amount - self.balance}원 입니다.\")\n",
    "    "
   ]
  },
  {
   "cell_type": "code",
   "execution_count": 96,
   "id": "2b01df63",
   "metadata": {},
   "outputs": [],
   "source": [
    "def process_payment(payment_method, amount):\n",
    "        payment_method.pay(amount)\n",
    "\n",
    "card_obj = CreditCard(\"4444-4444-1234-5678\",567)\n",
    "point_obj = PointWallet(50000)\n"
   ]
  },
  {
   "cell_type": "code",
   "execution_count": 99,
   "id": "764b981f",
   "metadata": {},
   "outputs": [
    {
     "name": "stdout",
     "output_type": "stream",
     "text": [
      "'4444-4444-1234-5678' 카드로 1000원 결제합니다.\n",
      "카드 결제 완료\n",
      "포인트 10000점을 사용해서 결제했습니다.\n",
      "포인트 잔액은 20000원입니다.\n",
      "포인트가 부족합니다.\n",
      "부족한 포인트 금액은 30000원 입니다.\n"
     ]
    }
   ],
   "source": [
    "process_payment(card_obj, 1000)\n",
    "process_payment(point_obj, 10000)\n",
    "process_payment(point_obj, 50000)"
   ]
  },
  {
   "cell_type": "markdown",
   "id": "d9a7895e",
   "metadata": {},
   "source": [
    "클래스 더 공부해보고 싶으면 강의자료 마지막쯤 있는 파이썬 터틀 만들어 보기"
   ]
  },
  {
   "cell_type": "code",
   "execution_count": null,
   "id": "aff26664",
   "metadata": {},
   "outputs": [],
   "source": [
    "#import turtle   -> turtle_test.py 파일 만들어서 다 작성하기\n",
    "\n",
    "#turtle.forward(100)\n",
    "\n",
    "# turtle.exitonclick()"
   ]
  },
  {
   "cell_type": "code",
   "execution_count": 101,
   "id": "357c4dcb",
   "metadata": {},
   "outputs": [
    {
     "name": "stdout",
     "output_type": "stream",
     "text": [
      "Collecting numpy\n",
      "  Downloading numpy-2.3.3-cp311-cp311-win_amd64.whl.metadata (60 kB)\n",
      "     ---------------------------------------- 0.0/60.9 kB ? eta -:--:--\n",
      "     ------ --------------------------------- 10.2/60.9 kB ? eta -:--:--\n",
      "     ------------------- ------------------ 30.7/60.9 kB 435.7 kB/s eta 0:00:01\n",
      "     ------------------------------- ------ 51.2/60.9 kB 525.1 kB/s eta 0:00:01\n",
      "     -------------------------------------- 60.9/60.9 kB 405.6 kB/s eta 0:00:00\n",
      "Downloading numpy-2.3.3-cp311-cp311-win_amd64.whl (13.1 MB)\n",
      "   ---------------------------------------- 0.0/13.1 MB ? eta -:--:--\n",
      "   -- ------------------------------------- 0.7/13.1 MB 14.8 MB/s eta 0:00:01\n",
      "   ----- ---------------------------------- 1.9/13.1 MB 20.0 MB/s eta 0:00:01\n",
      "   ----------- ---------------------------- 3.7/13.1 MB 26.5 MB/s eta 0:00:01\n",
      "   ----------------- ---------------------- 5.6/13.1 MB 29.8 MB/s eta 0:00:01\n",
      "   ---------------------- ----------------- 7.4/13.1 MB 33.8 MB/s eta 0:00:01\n",
      "   ------------------------------ --------- 9.9/13.1 MB 37.1 MB/s eta 0:00:01\n",
      "   ------------------------------------- -- 12.2/13.1 MB 46.9 MB/s eta 0:00:01\n",
      "   ---------------------------------------  13.1/13.1 MB 46.7 MB/s eta 0:00:01\n",
      "   ---------------------------------------- 13.1/13.1 MB 36.4 MB/s eta 0:00:00\n",
      "Installing collected packages: numpy\n",
      "Successfully installed numpy-2.3.3\n"
     ]
    },
    {
     "name": "stderr",
     "output_type": "stream",
     "text": [
      "\n",
      "[notice] A new release of pip is available: 24.0 -> 25.2\n",
      "[notice] To update, run: python.exe -m pip install --upgrade pip\n"
     ]
    }
   ],
   "source": [
    "!pip install numpy"
   ]
  },
  {
   "cell_type": "markdown",
   "id": "14ff27bd",
   "metadata": {},
   "source": [
    "import numpy"
   ]
  },
  {
   "cell_type": "code",
   "execution_count": 107,
   "id": "782ffa40",
   "metadata": {},
   "outputs": [
    {
     "name": "stdout",
     "output_type": "stream",
     "text": [
      "Requirement already satisfied: beautifulsoup4 in c:\\users\\el89\\appdata\\local\\programs\\python\\python311\\lib\\site-packages (4.13.5)\n",
      "Requirement already satisfied: soupsieve>1.2 in c:\\users\\el89\\appdata\\local\\programs\\python\\python311\\lib\\site-packages (from beautifulsoup4) (2.8)\n",
      "Requirement already satisfied: typing-extensions>=4.0.0 in c:\\users\\el89\\appdata\\roaming\\python\\python311\\site-packages (from beautifulsoup4) (4.15.0)\n"
     ]
    },
    {
     "name": "stderr",
     "output_type": "stream",
     "text": [
      "\n",
      "[notice] A new release of pip is available: 24.0 -> 25.2\n",
      "[notice] To update, run: python.exe -m pip install --upgrade pip\n"
     ]
    }
   ],
   "source": [
    "!pip install beautifulsoup4"
   ]
  },
  {
   "cell_type": "code",
   "execution_count": 108,
   "id": "742f5424",
   "metadata": {},
   "outputs": [],
   "source": [
    "import bs4"
   ]
  },
  {
   "cell_type": "code",
   "execution_count": 110,
   "id": "f0c8d0b6",
   "metadata": {},
   "outputs": [],
   "source": [
    "from bs4 import BeautifulSoup"
   ]
  },
  {
   "cell_type": "code",
   "execution_count": null,
   "id": "0cadf272",
   "metadata": {},
   "outputs": [],
   "source": []
  }
 ],
 "metadata": {
  "kernelspec": {
   "display_name": "Python 3",
   "language": "python",
   "name": "python3"
  },
  "language_info": {
   "codemirror_mode": {
    "name": "ipython",
    "version": 3
   },
   "file_extension": ".py",
   "mimetype": "text/x-python",
   "name": "python",
   "nbconvert_exporter": "python",
   "pygments_lexer": "ipython3",
   "version": "3.11.8"
  }
 },
 "nbformat": 4,
 "nbformat_minor": 5
}
