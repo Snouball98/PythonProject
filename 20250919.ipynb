{
 "cells": [
  {
   "cell_type": "code",
   "execution_count": null,
   "id": "47265cf9",
   "metadata": {},
   "outputs": [],
   "source": []
  },
  {
   "cell_type": "code",
   "execution_count": null,
   "id": "675db013",
   "metadata": {},
   "outputs": [],
   "source": [
    "str1 + str2"
   ]
  },
  {
   "cell_type": "code",
   "execution_count": null,
   "id": "80218be8",
   "metadata": {},
   "outputs": [],
   "source": [
    "str1 = \"Hello\"\n",
    "str2 = \"World\""
   ]
  },
  {
   "cell_type": "code",
   "execution_count": null,
   "id": "5774b654",
   "metadata": {},
   "outputs": [],
   "source": [
    "\"Hello\" + \"World\""
   ]
  },
  {
   "cell_type": "code",
   "execution_count": null,
   "id": "e753c338",
   "metadata": {},
   "outputs": [],
   "source": [
    "num1 ** num2\n",
    "#거듭제곱"
   ]
  },
  {
   "cell_type": "code",
   "execution_count": null,
   "id": "dc66e5c6",
   "metadata": {},
   "outputs": [],
   "source": [
    "num1 // num2\n",
    "#몫"
   ]
  },
  {
   "cell_type": "code",
   "execution_count": null,
   "id": "fdddf61b",
   "metadata": {},
   "outputs": [],
   "source": [
    "num1 % num2\n",
    "#나머지"
   ]
  },
  {
   "cell_type": "code",
   "execution_count": null,
   "id": "11a257f4",
   "metadata": {},
   "outputs": [],
   "source": [
    "num1 / num2"
   ]
  },
  {
   "cell_type": "code",
   "execution_count": null,
   "id": "50f9cc8f",
   "metadata": {},
   "outputs": [],
   "source": [
    "num1 * num2"
   ]
  },
  {
   "cell_type": "code",
   "execution_count": null,
   "id": "b184c963",
   "metadata": {},
   "outputs": [],
   "source": [
    "num1 - num2"
   ]
  },
  {
   "cell_type": "code",
   "execution_count": null,
   "id": "368b5226",
   "metadata": {},
   "outputs": [],
   "source": [
    "num1 + num2"
   ]
  },
  {
   "cell_type": "code",
   "execution_count": null,
   "id": "d8269a99",
   "metadata": {},
   "outputs": [],
   "source": [
    "num1 = 7\n",
    "num2 = 3\n"
   ]
  },
  {
   "cell_type": "code",
   "execution_count": null,
   "id": "a641f894",
   "metadata": {},
   "outputs": [],
   "source": [
    "mynumber+10"
   ]
  },
  {
   "cell_type": "code",
   "execution_count": null,
   "id": "407fa784",
   "metadata": {},
   "outputs": [],
   "source": [
    "type(mynumber)"
   ]
  },
  {
   "cell_type": "code",
   "execution_count": null,
   "id": "59635592",
   "metadata": {},
   "outputs": [],
   "source": [
    "mynumber = \"권순우\""
   ]
  },
  {
   "cell_type": "code",
   "execution_count": null,
   "id": "82cc0aa2",
   "metadata": {},
   "outputs": [],
   "source": [
    "type(mynumber)"
   ]
  },
  {
   "cell_type": "code",
   "execution_count": null,
   "id": "30cb2717",
   "metadata": {},
   "outputs": [],
   "source": [
    "mynumber = 38.6"
   ]
  },
  {
   "cell_type": "code",
   "execution_count": null,
   "id": "84cd3c34",
   "metadata": {},
   "outputs": [],
   "source": [
    "mynumber + 10"
   ]
  },
  {
   "cell_type": "code",
   "execution_count": null,
   "id": "ca5158d4",
   "metadata": {},
   "outputs": [],
   "source": [
    "mynumber = 100"
   ]
  },
  {
   "cell_type": "code",
   "execution_count": null,
   "id": "9c66d636",
   "metadata": {},
   "outputs": [],
   "source": [
    "type(100)"
   ]
  },
  {
   "cell_type": "code",
   "execution_count": null,
   "id": "4f9c7a30",
   "metadata": {},
   "outputs": [],
   "source": [
    "type(True)\n"
   ]
  },
  {
   "cell_type": "code",
   "execution_count": null,
   "id": "73fc6c56",
   "metadata": {},
   "outputs": [],
   "source": [
    "type(\"100\")"
   ]
  },
  {
   "cell_type": "code",
   "execution_count": null,
   "id": "7dad4e6d",
   "metadata": {},
   "outputs": [],
   "source": [
    "type(3.14)"
   ]
  },
  {
   "cell_type": "code",
   "execution_count": null,
   "id": "3268eab0",
   "metadata": {},
   "outputs": [],
   "source": [
    "Print('hello')\n",
    "#Name Error 프린트 P 대문자 오류 정의 "
   ]
  },
  {
   "cell_type": "code",
   "execution_count": null,
   "id": "924fd99e",
   "metadata": {},
   "outputs": [],
   "source": [
    "print('hello\")\n",
    "      #작은/큰 따옴표 에러 Syntax Error #문법 에러\n",
    "      #근처에 오류 있다 알려주면서 몇번째 줄인지 알려줌"
   ]
  },
  {
   "cell_type": "code",
   "execution_count": null,
   "id": "87dd87d4",
   "metadata": {},
   "outputs": [],
   "source": [
    "print(True)"
   ]
  },
  {
   "cell_type": "code",
   "execution_count": null,
   "id": "2289c3ce",
   "metadata": {},
   "outputs": [],
   "source": [
    "36.5 #실수형 데이터 (소수점이 있는 수)(#float)"
   ]
  },
  {
   "cell_type": "code",
   "execution_count": null,
   "id": "893c549f",
   "metadata": {},
   "outputs": [],
   "source": [
    "123 #정수형 데이터 (#integer)"
   ]
  },
  {
   "cell_type": "code",
   "execution_count": null,
   "id": "4b195c35",
   "metadata": {},
   "outputs": [],
   "source": [
    "print(\"안녕 이제 파이썬을 시작하려고 해\")"
   ]
  },
  {
   "cell_type": "code",
   "execution_count": null,
   "id": "0f955e9f",
   "metadata": {},
   "outputs": [],
   "source": [
    "\"Hello\" #문자열 데이터"
   ]
  },
  {
   "cell_type": "code",
   "execution_count": null,
   "id": "90f4152e",
   "metadata": {},
   "outputs": [],
   "source": [
    "'123' #문자열 데이터"
   ]
  },
  {
   "cell_type": "code",
   "execution_count": null,
   "id": "e1b6e2d7",
   "metadata": {},
   "outputs": [],
   "source": [
    "True, False #(네, 아니오 - 논리 값 / 참, 거짓 -> 논리 데이터) #boolean"
   ]
  },
  {
   "cell_type": "code",
   "execution_count": null,
   "id": "0c0c8016",
   "metadata": {},
   "outputs": [],
   "source": [
    "num1 + str1"
   ]
  },
  {
   "cell_type": "code",
   "execution_count": null,
   "id": "828a86a9",
   "metadata": {},
   "outputs": [],
   "source": [
    "mynumber = 100"
   ]
  },
  {
   "cell_type": "code",
   "execution_count": null,
   "id": "c4a48a7e",
   "metadata": {},
   "outputs": [],
   "source": [
    "#같다, 다르다, 크다, 작다"
   ]
  },
  {
   "cell_type": "code",
   "execution_count": null,
   "id": "0ba9042e",
   "metadata": {},
   "outputs": [],
   "source": [
    "# = 하나는 대입 연산자, 데이터가 같냐고 물어보기 위해서는 ==\n",
    "# 같다 ==, 다르다 !=, 크다 >, 작다 <, 크거나같다 작거나 같다 >=, <="
   ]
  },
  {
   "cell_type": "code",
   "execution_count": null,
   "id": "0b0b1066",
   "metadata": {},
   "outputs": [],
   "source": [
    "5 == 3\n",
    "# 5랑 3은 같니"
   ]
  },
  {
   "cell_type": "code",
   "execution_count": null,
   "id": "42c236f1",
   "metadata": {},
   "outputs": [],
   "source": [
    "5 != 3\n",
    "# 5랑 3은 다르니"
   ]
  },
  {
   "cell_type": "code",
   "execution_count": null,
   "id": "1634a8bb",
   "metadata": {},
   "outputs": [],
   "source": [
    "5 >= 3\n",
    "# 5는 3보다 크거나 같니"
   ]
  },
  {
   "cell_type": "code",
   "execution_count": null,
   "id": "d4133660",
   "metadata": {},
   "outputs": [],
   "source": [
    "str1 + str2"
   ]
  },
  {
   "cell_type": "code",
   "execution_count": null,
   "id": "18441db0",
   "metadata": {},
   "outputs": [],
   "source": [
    "print(str1+str2)"
   ]
  },
  {
   "cell_type": "code",
   "execution_count": null,
   "id": "4d020459",
   "metadata": {},
   "outputs": [],
   "source": [
    "print(str1+\" \"+str2)"
   ]
  },
  {
   "cell_type": "code",
   "execution_count": null,
   "id": "667846d6",
   "metadata": {},
   "outputs": [],
   "source": [
    "print(str1,str2)\n",
    "# +와 다르게 문자열을 콤마(,)로 묶으면 한칸 자동으로 띄워서 붙여줌"
   ]
  },
  {
   "cell_type": "code",
   "execution_count": null,
   "id": "bcd6d509",
   "metadata": {},
   "outputs": [],
   "source": [
    "print(str1, str2, str1, str1, str1)"
   ]
  },
  {
   "cell_type": "code",
   "execution_count": null,
   "id": "1915be26",
   "metadata": {},
   "outputs": [],
   "source": [
    "input()"
   ]
  },
  {
   "cell_type": "code",
   "execution_count": null,
   "id": "1f835669",
   "metadata": {},
   "outputs": [],
   "source": [
    "input()"
   ]
  },
  {
   "cell_type": "code",
   "execution_count": null,
   "id": "1793c78d",
   "metadata": {},
   "outputs": [],
   "source": [
    "name = input()\n",
    "print (\"이름은\", name, \"입니다\")"
   ]
  },
  {
   "cell_type": "code",
   "execution_count": null,
   "id": "3ba5dd3a",
   "metadata": {},
   "outputs": [],
   "source": [
    "name = input(\"이름을 입력하세요: \")\n",
    "print (\"이름은\", name, \"입니다\")"
   ]
  },
  {
   "cell_type": "code",
   "execution_count": null,
   "id": "97a1f16c",
   "metadata": {},
   "outputs": [],
   "source": [
    "num1 = 7\n",
    "num2 = 3"
   ]
  },
  {
   "cell_type": "code",
   "execution_count": null,
   "id": "dc4ac912",
   "metadata": {},
   "outputs": [],
   "source": [
    "#미션"
   ]
  },
  {
   "cell_type": "code",
   "execution_count": null,
   "id": "787836ef",
   "metadata": {},
   "outputs": [],
   "source": [
    "#미션\n",
    "#사용자로부터 숫자 입력을 받아서 +, -, *, / 연산 결과를 출력해주세요"
   ]
  },
  {
   "cell_type": "code",
   "execution_count": null,
   "id": "59b42056",
   "metadata": {},
   "outputs": [],
   "source": [
    "num1 = input(\"첫 번째 숫자를 입력해주세요:\")"
   ]
  },
  {
   "cell_type": "code",
   "execution_count": null,
   "id": "d19a3c36",
   "metadata": {},
   "outputs": [],
   "source": [
    "num1 = input(\"첫 번째 숫자를 입력해주세요:\")\n",
    "num2 = input(\"두 번째 숫자를 입력해주세요:\")\n",
    "print(\"두 숫자의 합은\"+(num1+num2)+\"입니다\")"
   ]
  },
  {
   "cell_type": "code",
   "execution_count": null,
   "id": "7f551b5c",
   "metadata": {},
   "outputs": [],
   "source": [
    "num1 = input(\"첫 번째 숫자를 입력해주세요:\")\n",
    "num2 = input(\"두 번째 숫자를 입력해주세요:\")\n",
    "print(\"두 숫자의 합은\",num1+num2,\"입니다\")"
   ]
  },
  {
   "cell_type": "code",
   "execution_count": null,
   "id": "5feb4fab",
   "metadata": {},
   "outputs": [],
   "source": [
    "int(num1) == input(\"첫 번째 숫자를 입력해주세요:\")\n",
    "int(num2) == input(\"두 번째 숫자를 입력해주세요:\")\n",
    "print(\"두 숫자의 합은\",num1+num2,\"입니다\")"
   ]
  },
  {
   "cell_type": "code",
   "execution_count": null,
   "id": "474872b7",
   "metadata": {},
   "outputs": [],
   "source": [
    "num1 = input(\"첫 번째 숫자를 입력해주세요:\")\n",
    "num2 = input(\"두 번째 숫자를 입력해주세요:\")\n",
    "print(\"두 숫자의 합은\",num1+num2,\"입니다\")"
   ]
  },
  {
   "cell_type": "code",
   "execution_count": null,
   "id": "9ed7a6d1",
   "metadata": {},
   "outputs": [],
   "source": [
    "num1 = input(\"첫 번째 숫자를 입력해주세요:\")\n",
    "num2 = input(\"두 번째 숫자를 입력해주세요:\")\n",
    "\n",
    "print(num1+num2)\n",
    "print(num1-num2)\n",
    "print(num1*num2)\n",
    "print(num1/num2)"
   ]
  },
  {
   "cell_type": "code",
   "execution_count": null,
   "id": "7c23dbd7",
   "metadata": {},
   "outputs": [],
   "source": [
    "type(num1)\n",
    "#이럴 때, 형 변형이 필요하다"
   ]
  },
  {
   "cell_type": "code",
   "execution_count": null,
   "id": "136d3227",
   "metadata": {},
   "outputs": [],
   "source": [
    "num1 = int(input(\"첫 번째 숫자를 입력해주세요:\"))\n",
    "num2 = int(input(\"두 번째 숫자를 입력해주세요:\"))\n",
    "\n",
    "print(num1+num2)\n",
    "print(num1-num2)\n",
    "print(num1*num2)\n",
    "print(num1/num2)"
   ]
  },
  {
   "cell_type": "code",
   "execution_count": null,
   "id": "cff8dc1e",
   "metadata": {},
   "outputs": [],
   "source": [
    "# f-string\n",
    "num1 = 7\n",
    "num2 = 3\n",
    "\n",
    "print(num1, \"+\", num2, \"=\", num1+num2) #f-string 안쓴 것\n",
    "print(f\"{num1} + {num2} = {num1+num2}\") #f-string 쓴 것\n",
    "#\" \"안에서 하고 싶은 말 자연스럽게 표현할 수 있음"
   ]
  },
  {
   "cell_type": "code",
   "execution_count": null,
   "id": "a8eb174b",
   "metadata": {},
   "outputs": [],
   "source": []
  },
  {
   "cell_type": "code",
   "execution_count": null,
   "id": "2e89d0d0",
   "metadata": {},
   "outputs": [],
   "source": [
    "sentense = \"\"\""
   ]
  },
  {
   "cell_type": "code",
   "execution_count": null,
   "id": "5f89c3f0",
   "metadata": {},
   "outputs": [],
   "source": [
    "sentense = \"\"\"\n",
    "안녕\n",
    "반가워\n",
    "추워"
   ]
  },
  {
   "cell_type": "code",
   "execution_count": null,
   "id": "fbfdfbfe",
   "metadata": {},
   "outputs": [],
   "source": [
    "sentense = \"\"\"\n",
    "안녕\n",
    "반가워\n",
    "추워\n",
    "\"\"\""
   ]
  },
  {
   "cell_type": "code",
   "execution_count": null,
   "id": "f8ed926e",
   "metadata": {},
   "outputs": [],
   "source": [
    "print(sentense)"
   ]
  },
  {
   "cell_type": "code",
   "execution_count": null,
   "id": "fe60ca2a",
   "metadata": {},
   "outputs": [],
   "source": [
    "print(\"'낮말'은 새가 듣고 '밤말'은 쥐가 듣는다\")"
   ]
  },
  {
   "cell_type": "code",
   "execution_count": null,
   "id": "66be9409",
   "metadata": {},
   "outputs": [],
   "source": [
    "print(\"'낮말'은 새가 듣고 '밤말'은 쥐가 듣는다.\")"
   ]
  },
  {
   "cell_type": "code",
   "execution_count": null,
   "id": "0dfa4454",
   "metadata": {},
   "outputs": [],
   "source": [
    "a = float(input(\"첫 번째 값 입력: \"))\n",
    "b = float(input(\"두 번째 값 입력: \"))\n",
    "\n",
    "print(f'{a:.2f}*{b:3f} = {a*b:,.2f}')"
   ]
  },
  {
   "cell_type": "code",
   "execution_count": null,
   "id": "57cc81a9",
   "metadata": {},
   "outputs": [],
   "source": [
    "print (\"Hello\",\"Hello\",\"Hello\",\"Hello\",\"Hello\",sep=' ', end =' ')"
   ]
  },
  {
   "cell_type": "code",
   "execution_count": null,
   "id": "4f76719f",
   "metadata": {},
   "outputs": [],
   "source": [
    "print(type(True))"
   ]
  },
  {
   "cell_type": "code",
   "execution_count": null,
   "id": "19b61599",
   "metadata": {},
   "outputs": [],
   "source": [
    "int(), str(), float(), bool()"
   ]
  },
  {
   "cell_type": "code",
   "execution_count": null,
   "id": "cc70264d",
   "metadata": {},
   "outputs": [],
   "source": [
    "bool(0)"
   ]
  },
  {
   "cell_type": "code",
   "execution_count": null,
   "id": "36f42e1c",
   "metadata": {},
   "outputs": [],
   "source": [
    "bool(1)"
   ]
  },
  {
   "cell_type": "code",
   "execution_count": null,
   "id": "aec1404c",
   "metadata": {},
   "outputs": [],
   "source": [
    "bool(100)"
   ]
  },
  {
   "cell_type": "code",
   "execution_count": null,
   "id": "2b93dbfa",
   "metadata": {},
   "outputs": [],
   "source": [
    "bool(-1)"
   ]
  },
  {
   "cell_type": "code",
   "execution_count": null,
   "id": "793fbc73",
   "metadata": {},
   "outputs": [],
   "source": [
    "# bool은 0만 False, 나머지는 다 True(1, -1, 100, -100 다)"
   ]
  },
  {
   "cell_type": "code",
   "execution_count": null,
   "id": "e1bac1aa",
   "metadata": {},
   "outputs": [],
   "source": [
    "bool('')"
   ]
  },
  {
   "cell_type": "code",
   "execution_count": null,
   "id": "c84dba7f",
   "metadata": {},
   "outputs": [],
   "source": [
    "bool('python')"
   ]
  },
  {
   "cell_type": "code",
   "execution_count": null,
   "id": "0277e73d",
   "metadata": {},
   "outputs": [],
   "source": [
    "# bool 안에 문자가 아예 없으면 False, 문자가 뭐라도 있으면 True"
   ]
  },
  {
   "cell_type": "code",
   "execution_count": null,
   "id": "b65e48d6",
   "metadata": {},
   "outputs": [],
   "source": [
    "kb_price = 3000\n",
    "tbk_price =3500\n",
    "rm_price = 2500\n",
    "\n",
    "kb_order = int(input(print(\"김밥 주문 갯수를 입력해주세요\")))\n",
    "tbk_order = int(input(print(\"떡볶이 주문 갯수를 입력해주세요\")))\n",
    "rm_order =  int(input(print(\"라면 주문 갯수를 입력해주세요\")))\n",
    "\n",
    "kb_total = kb_price * kb_order\n",
    "tbk_total = tbk_price * tbk_order\n",
    "rm_total = rm_price * rm_order\n",
    "\n",
    "total = kb_total+tbk_total+rm_total\n",
    "print(\"주문하신 라면은\",rm_order,\"개\", \"주문하신 떡볶이는\",tbk_order,\"개,\", \"주문하신 김밥은\",kb_order,\"개 입니다.\")\n",
    "print(\"지불하실 금액은\",total,\"원 입니다.\")"
   ]
  },
  {
   "cell_type": "code",
   "execution_count": null,
   "id": "bebb4304",
   "metadata": {},
   "outputs": [],
   "source": [
    "print(\"Hello\")\n",
    "print(\"Hello\")\n",
    "print(\"Hello\")\n",
    "print(\"Hello\")\n",
    "print(\"Hello\")\n",
    "print(\"아 졸려\")\n",
    "print(\"Hello\")\n",
    "#불필요하게 너무 많이 반복되는 경우가 발생함\n",
    "#이런 것을 해결하기 위해 선택구조, 반복구조 처리 방법을 배움"
   ]
  },
  {
   "cell_type": "markdown",
   "id": "4cb88dce",
   "metadata": {},
   "source": [
    "#조건문"
   ]
  },
  {
   "cell_type": "code",
   "execution_count": null,
   "id": "ea6258e5",
   "metadata": {},
   "outputs": [],
   "source": [
    "# 조건에 따라서 명령어의 실행여부가 결정됨\n",
    "\n",
    "if 조건:\n",
    "    실행할 명령어\n",
    "\n",
    "조건문 밖의 명령어"
   ]
  },
  {
   "cell_type": "code",
   "execution_count": null,
   "id": "d7c21894",
   "metadata": {},
   "outputs": [],
   "source": [
    "money = True\n",
    "\n",
    "if money:\n",
    "    print(\"스테이크를 먹는다\")\n",
    "\n",
    "print('조건문 종료')"
   ]
  },
  {
   "cell_type": "code",
   "execution_count": null,
   "id": "1aba9f40",
   "metadata": {},
   "outputs": [],
   "source": [
    "money = False\n",
    "\n",
    "if money:\n",
    "    print(\"스테이크를 먹는다\")\n",
    "\n",
    "print('조건문 종료')"
   ]
  },
  {
   "cell_type": "code",
   "execution_count": null,
   "id": "ef9c0703",
   "metadata": {},
   "outputs": [],
   "source": [
    "money = True\n",
    "\n",
    "if money:\n",
    "    print(\"스테이크를 먹는다\")\n",
    "    print('커피를 마신다')\n",
    "    print('택시도 탄다')\n",
    "\n",
    "print('조건문 종료')"
   ]
  },
  {
   "cell_type": "code",
   "execution_count": null,
   "id": "4602bff0",
   "metadata": {},
   "outputs": [],
   "source": [
    "money = True\n",
    "\n",
    "if money:\n",
    "    print(\"스테이크를 먹는다\")\n",
    "    print('커피를 마신다')\n",
    "print('택시도 탄다')\n",
    "\n",
    "print('조건문 종료')"
   ]
  },
  {
   "cell_type": "code",
   "execution_count": null,
   "id": "5e766690",
   "metadata": {},
   "outputs": [],
   "source": [
    "if 조건 :\n",
    "    수행할 명령\n",
    "else:\n",
    "    다른명령"
   ]
  },
  {
   "cell_type": "code",
   "execution_count": null,
   "id": "6491c1d1",
   "metadata": {},
   "outputs": [],
   "source": [
    "# 짝수 홀수 구분\n",
    "\n",
    "#  num % 2 == 0 짝수  / 그렇지 않으면 홀수\n",
    "\n",
    "num = 3\n",
    "\n",
    "if num %2 == 0 :\n",
    "    print(\"짝수\")\n",
    "else:\n",
    "    print(\"홀수\")"
   ]
  },
  {
   "cell_type": "code",
   "execution_count": null,
   "id": "185b125a",
   "metadata": {},
   "outputs": [],
   "source": [
    "num = 10\n",
    "\n",
    "if num > 100 :\n",
    "    print (\"너무 커요\")\n",
    "else:\n",
    "    print (\"작아요\")"
   ]
  },
  {
   "cell_type": "code",
   "execution_count": null,
   "id": "c41fa597",
   "metadata": {},
   "outputs": [],
   "source": [
    "# and, or 연산자 함께 활용 가능\n",
    "\n",
    "eng = 80\n",
    "math = 100\n",
    "\n",
    "if eng >= 90 and math >= 90:\n",
    "    print (\"스티커\")\n",
    "else:\n",
    "    print (\"좀 더 노력하세요\")"
   ]
  },
  {
   "cell_type": "code",
   "execution_count": null,
   "id": "af427fb1",
   "metadata": {},
   "outputs": [],
   "source": [
    "#중첩 조건문\n",
    "\n",
    "eng = 80\n",
    "math = 100\n",
    "\n",
    "if eng >= 90 :\n",
    "    if math >= 90 :\n",
    "        print (\"둘 다 성공\")\n",
    "    else:\n",
    "        print (\"좀 더 노력\")\n",
    "else:\n",
    "    print (\"많이 노력\")"
   ]
  },
  {
   "cell_type": "code",
   "execution_count": null,
   "id": "87d8a42f",
   "metadata": {},
   "outputs": [],
   "source": [
    "num = int(input(\"숫자를 입력하세요: \"))\n",
    "\n",
    "if num%2 ==0 :\n",
    "    print(\"짝수입니다\")\n",
    "else :\n",
    "    print(\"홀수입니다\")"
   ]
  },
  {
   "cell_type": "code",
   "execution_count": null,
   "id": "ea748883",
   "metadata": {},
   "outputs": [],
   "source": [
    "score = int(input(\"점수를 입력하세요\"))\n",
    "print(\"입력하신 점수는\",score,\"점 입니다\")\n",
    "\n",
    "if score >= 90 :\n",
    "    print (\"A\")\n",
    "elif score >= 80 :\n",
    "    print (\"B\")\n",
    "elif score >= 70 :\n",
    "    print (\"C\")\n",
    "elif score >= 60 :\n",
    "    print (\"D\")\n",
    "else :\n",
    "    print(\"F\")"
   ]
  },
  {
   "cell_type": "code",
   "execution_count": null,
   "id": "69bbca32",
   "metadata": {},
   "outputs": [],
   "source": [
    "for 변수 in 이터러블(반복 가능한 객체_바구니):\n",
    "    반복할 문장"
   ]
  },
  {
   "cell_type": "code",
   "execution_count": null,
   "id": "bfcc6c6b",
   "metadata": {},
   "outputs": [],
   "source": [
    "for i in range(10):\n",
    "    print(\"Hello\")"
   ]
  },
  {
   "cell_type": "code",
   "execution_count": null,
   "id": "cbb51af5",
   "metadata": {},
   "outputs": [],
   "source": [
    "for i in range(1,10+1):\n",
    "    print(f\"{i}번째 Hello\")\n",
    "\n",
    "#start는 괄호 첫 번째 숫자/ 엔드는 뒷 숫자 -1"
   ]
  },
  {
   "cell_type": "code",
   "execution_count": null,
   "id": "186b1873",
   "metadata": {},
   "outputs": [],
   "source": [
    "for i in range (1, 10+1, 2):   #(start, end, step)\n",
    "    print(f\"{i}번째 Hello\")"
   ]
  },
  {
   "cell_type": "code",
   "execution_count": null,
   "id": "06fdc58f",
   "metadata": {},
   "outputs": [],
   "source": [
    "for i in range (10, 0, -1):   #(start, end, 증가값 step)\n",
    "    print(f\"{i}번째 Hello\")"
   ]
  },
  {
   "cell_type": "code",
   "execution_count": null,
   "id": "23b7af5e",
   "metadata": {},
   "outputs": [],
   "source": [
    "# for 반복문과 range()함수를 사용해서 1부터 10까지의 합을 출력해주세요.\n",
    "\n",
    "num = 0\n",
    "for i in range(1, 11):\n",
    "    num = num + i\n",
    "print (num)\n"
   ]
  },
  {
   "cell_type": "code",
   "execution_count": null,
   "id": "dd79e23b",
   "metadata": {},
   "outputs": [],
   "source": [
    "# for 반복문과 range()함수를 사용해서 1부터 10까지의 곱을 출력해주세요.\n",
    "\n",
    "num = 1      #곱은 1부터 시작\n",
    "for i in range(1, 11):\n",
    "    num = num * i\n",
    "print (num)\n"
   ]
  },
  {
   "cell_type": "code",
   "execution_count": null,
   "id": "10b81bc8",
   "metadata": {},
   "outputs": [],
   "source": [
    "# for 반복문과 range()함수를 사용해서 사용자로부터 입력받은 숫자에 해당하는 구구단을 출력해주세요.\n",
    "num1 = int(input(\"숫자를 입력해주세요:\"))\n",
    " \n",
    "for i in range(1,10):\n",
    " num2 = num1 * i\n",
    " print(f\"{num1} X {i} = {num2}\")"
   ]
  },
  {
   "cell_type": "code",
   "execution_count": null,
   "id": "f0e303b2",
   "metadata": {},
   "outputs": [],
   "source": [
    "num = 0\n",
    "for i in range(1, 11):\n",
    "    num = num + i\n",
    "print (num)\n"
   ]
  },
  {
   "cell_type": "code",
   "execution_count": null,
   "id": "082e6990",
   "metadata": {},
   "outputs": [],
   "source": [
    "i = 1\n",
    "while i <= 5 :\n",
    "    print (f\"{i}번째 Hello\")\n",
    "    i =i + 1\n"
   ]
  },
  {
   "cell_type": "code",
   "execution_count": null,
   "id": "9f29b888",
   "metadata": {},
   "outputs": [],
   "source": [
    "#while 문을 이용해서 1부터 사용자로부터 입력받은 정수값까지의 합을 구해주세요.\n",
    "\n",
    "num = int(input(print(\"숫자를 입력해주세요: \")))\n",
    "\n",
    "sum=0\n",
    "i = 1\n",
    "while i <= num :\n",
    "    sum = sum + i\n",
    "    i = i + 1  # i 값을 늘려주면서 멈출 타이밍 재야\n",
    "\n",
    "print(sum)"
   ]
  },
  {
   "cell_type": "code",
   "execution_count": null,
   "id": "cc70b84d",
   "metadata": {},
   "outputs": [],
   "source": [
    "\n",
    "sum = 0\n",
    "for i in range(1, 10 +1):\n",
    "    sum += i #(sum = sum + i 와 동일하다)\n",
    "print(sum)"
   ]
  },
  {
   "cell_type": "code",
   "execution_count": null,
   "id": "0ee59ec4",
   "metadata": {},
   "outputs": [],
   "source": [
    "multi = 1\n",
    "i = 1\n",
    "while i < 10:\n",
    "    multi = multi*i\n",
    "    i = i + 1\n",
    "print (multi)"
   ]
  },
  {
   "cell_type": "code",
   "execution_count": null,
   "id": "d7342f1e",
   "metadata": {},
   "outputs": [],
   "source": [
    "#while 로 1~9까지 곱 안되는디,,\n",
    "\n",
    "multi = 1\n",
    "while i < 10 :\n",
    "    multi = multi + 1\n",
    "    i = i + 1\n",
    "print(multi)"
   ]
  },
  {
   "cell_type": "code",
   "execution_count": null,
   "id": "b136b4b4",
   "metadata": {},
   "outputs": [],
   "source": [
    "prompt = \"\"\"\n",
    "1. Add\n",
    "2. Del\n",
    "3. List\n",
    "4. Quit\n",
    "\n",
    "Enter nuber : \"\"\"\n",
    "\n"
   ]
  },
  {
   "cell_type": "code",
   "execution_count": 7,
   "id": "b28d385e",
   "metadata": {},
   "outputs": [
    {
     "ename": "NameError",
     "evalue": "name 'prompt' is not defined",
     "output_type": "error",
     "traceback": [
      "\u001b[31m---------------------------------------------------------------------------\u001b[39m",
      "\u001b[31mNameError\u001b[39m                                 Traceback (most recent call last)",
      "\u001b[36mCell\u001b[39m\u001b[36m \u001b[39m\u001b[32mIn[7]\u001b[39m\u001b[32m, line 4\u001b[39m\n\u001b[32m      1\u001b[39m number = \u001b[32m0\u001b[39m\n\u001b[32m      3\u001b[39m \u001b[38;5;28;01mwhile\u001b[39;00m \u001b[38;5;28;01mTrue\u001b[39;00m:\n\u001b[32m----> \u001b[39m\u001b[32m4\u001b[39m     \u001b[38;5;28mprint\u001b[39m(\u001b[43mprompt\u001b[49m)\n\u001b[32m      5\u001b[39m     numer = \u001b[38;5;28mint\u001b[39m(\u001b[38;5;28minput\u001b[39m(\u001b[33m\"\u001b[39m\u001b[33m원하는 메뉴의 번호를 입력하세요:\u001b[39m\u001b[33m\"\u001b[39m))\n\u001b[32m      6\u001b[39m     \u001b[38;5;28;01mif\u001b[39;00m number == \u001b[32m4\u001b[39m :\n",
      "\u001b[31mNameError\u001b[39m: name 'prompt' is not defined"
     ]
    }
   ],
   "source": [
    "number = 0\n",
    "\n",
    "while True:\n",
    "    print(prompt)\n",
    "    numer = int(input(\"원하는 메뉴의 번호를 입력하세요:\"))\n",
    "    if number == 4 :\n",
    "        break\n"
   ]
  },
  {
   "cell_type": "markdown",
   "id": "fc4b3096",
   "metadata": {},
   "source": [
    "## Break, Continue"
   ]
  },
  {
   "cell_type": "code",
   "execution_count": null,
   "id": "9ede1167",
   "metadata": {},
   "outputs": [
    {
     "name": "stdout",
     "output_type": "stream",
     "text": [
      "정수 : 6, 합계 : 21\n",
      "21\n"
     ]
    }
   ],
   "source": [
    "# 1부터 10까지 더하되, 합이 20 이상이 되는 때의 정수 값을 찾고 싶어.\n",
    "\n",
    "\n",
    "sum = 0\n",
    "for i in range(1, 11):\n",
    "    sum = sum + i\n",
    "    if sum >= 20:\n",
    "        print (f\"정수 : {i}, 합계 : {sum}\")\n",
    "        break #반복문 탈출어\n",
    "print(sum)\n"
   ]
  },
  {
   "cell_type": "code",
   "execution_count": null,
   "id": "8824b235",
   "metadata": {},
   "outputs": [
    {
     "name": "stdout",
     "output_type": "stream",
     "text": [
      "124578"
     ]
    }
   ],
   "source": [
    "#3의 배수가 아닌 경우만 프린트해줘\n",
    "for i in range(10):\n",
    "    if i % 3 == 0 :\n",
    "        continue #반복문의 흐름을 깨지 않으면서, 아래로 가지 않고 그대로 위로 다시 오도록 걷어올리는\n",
    "    print (i, end = \"\")\n"
   ]
  },
  {
   "cell_type": "code",
   "execution_count": 5,
   "id": "a1209277",
   "metadata": {},
   "outputs": [
    {
     "name": "stdout",
     "output_type": "stream",
     "text": [
      "0123456789"
     ]
    }
   ],
   "source": [
    "#3의 배수가 아닌 경우만 프린트해줘 / continue를 안 쓴 경우\n",
    "for i in range(10):\n",
    "    print (i, end = \"\")\n"
   ]
  },
  {
   "cell_type": "code",
   "execution_count": 2,
   "id": "a72f36eb",
   "metadata": {},
   "outputs": [
    {
     "name": "stdout",
     "output_type": "stream",
     "text": [
      "96\n",
      "정답입니다\n",
      "게임 종료\n"
     ]
    }
   ],
   "source": [
    "#숫자 랜덤 게임\n",
    "\n",
    "import random\n",
    "answer = random.randint(1,100) #1이상 100이하 수 중 난수를 만들어서 랜덤하게 answer 변수에 넣어줌\n",
    "print(answer) \n",
    "\n",
    "while True:\n",
    "    guess = int(input(\"1부터 100 사이의 숫자를 맞춰 주세요. : \"))\n",
    "    if guess == answer :\n",
    "        print (\"정답입니다\")\n",
    "        break\n",
    "    elif guess > answer :\n",
    "        print (\"너무 커요\")\n",
    "    else:\n",
    "        print (\"너무 작아요\")\n",
    "\n",
    "print (\"게임 종료\")"
   ]
  },
  {
   "cell_type": "code",
   "execution_count": null,
   "id": "41972ba4",
   "metadata": {},
   "outputs": [],
   "source": [
    "# 혼자 추가 학습\n",
    "# 몇 번만에 맞췄는지 멘트 추가\n",
    "# N 번 안에 못맞추면 폭탄이 터져서 게임이 끝나는 기능\n",
    "# 범위 아닌거 입력하면 1~100 사이 숫자만 입력해달라고 다시 하는 기능\n"
   ]
  },
  {
   "cell_type": "code",
   "execution_count": 37,
   "id": "262a18d5",
   "metadata": {},
   "outputs": [
    {
     "name": "stdout",
     "output_type": "stream",
     "text": [
      "1  2  4  7  8  11  13  14  16  17  19  "
     ]
    }
   ],
   "source": [
    "# 20보다 작은 정수 중에서 3의 배수와 5의 배수를 제외하고 출력해 봅시다.\n",
    "\n",
    "for i in range(20):\n",
    "    if i % 3 == 0 :\n",
    "        continue\n",
    "    elif i % 5 == 0 :\n",
    "        continue\n",
    "    elif i == 21 :\n",
    "        break\n",
    "    print (i,\" \",end = \"\")\n",
    "\n",
    "\n"
   ]
  },
  {
   "cell_type": "code",
   "execution_count": null,
   "id": "21d64c9e",
   "metadata": {},
   "outputs": [
    {
     "name": "stdout",
     "output_type": "stream",
     "text": [
      "1\n",
      "2\n",
      "4\n",
      "7\n",
      "8\n",
      "11\n",
      "13\n",
      "14\n",
      "16\n",
      "17\n",
      "19\n"
     ]
    }
   ],
   "source": [
    "# 다른 수강생 답안\n",
    "i=0\n",
    "while i < 20 :\n",
    "    i = i + 1\n",
    "    if i % 3 == 0 :\n",
    "        continue\n",
    "    elif i % 5 == 0 :\n",
    "        continue\n",
    "    elif i > 20 :\n",
    "        break\n",
    "    else :\n",
    "        print (i)"
   ]
  },
  {
   "cell_type": "code",
   "execution_count": null,
   "id": "39adcf5e",
   "metadata": {},
   "outputs": [
    {
     "name": "stdout",
     "output_type": "stream",
     "text": [
      "1 2 4 7 8 11 13 14 16 17 19 "
     ]
    }
   ],
   "source": [
    "i = 0 \n",
    "while True :\n",
    "    i = i + 1\n",
    "    if i > 20 :\n",
    "        #print(f\"{i} break\")\n",
    "        break\n",
    "    if i % 3 == 0 or i % 5 == 0 :\n",
    "        #print(f\"{i} continue\")\n",
    "        continue\n",
    "    print (i, end = \" \")"
   ]
  },
  {
   "cell_type": "code",
   "execution_count": null,
   "id": "798f7e8e",
   "metadata": {},
   "outputs": [],
   "source": [
    "# 중첩반복문 : 2단부터\n",
    "\n",
    "multi = int(input(\"단수를 입력해주세요\"))\n",
    "\n",
    "for i in range (1, 10):\n",
    "    print(f\"{multi} * {i} = {multi * i}\")"
   ]
  },
  {
   "cell_type": "code",
   "execution_count": 9,
   "id": "8d3d664b",
   "metadata": {},
   "outputs": [
    {
     "name": "stdout",
     "output_type": "stream",
     "text": [
      "2 단 구구단\n",
      "2 * 1 = 2\n",
      "2 * 2 = 4\n",
      "2 * 3 = 6\n",
      "2 * 4 = 8\n",
      "2 * 5 = 10\n",
      "2 * 6 = 12\n",
      "2 * 7 = 14\n",
      "2 * 8 = 16\n",
      "2 * 9 = 18\n",
      "3 단 구구단\n",
      "3 * 1 = 3\n",
      "3 * 2 = 6\n",
      "3 * 3 = 9\n",
      "3 * 4 = 12\n",
      "3 * 5 = 15\n",
      "3 * 6 = 18\n",
      "3 * 7 = 21\n",
      "3 * 8 = 24\n",
      "3 * 9 = 27\n",
      "4 단 구구단\n",
      "4 * 1 = 4\n",
      "4 * 2 = 8\n",
      "4 * 3 = 12\n",
      "4 * 4 = 16\n",
      "4 * 5 = 20\n",
      "4 * 6 = 24\n",
      "4 * 7 = 28\n",
      "4 * 8 = 32\n",
      "4 * 9 = 36\n",
      "5 단 구구단\n",
      "5 * 1 = 5\n",
      "5 * 2 = 10\n",
      "5 * 3 = 15\n",
      "5 * 4 = 20\n",
      "5 * 5 = 25\n",
      "5 * 6 = 30\n",
      "5 * 7 = 35\n",
      "5 * 8 = 40\n",
      "5 * 9 = 45\n",
      "6 단 구구단\n",
      "6 * 1 = 6\n",
      "6 * 2 = 12\n",
      "6 * 3 = 18\n",
      "6 * 4 = 24\n",
      "6 * 5 = 30\n",
      "6 * 6 = 36\n",
      "6 * 7 = 42\n",
      "6 * 8 = 48\n",
      "6 * 9 = 54\n",
      "7 단 구구단\n",
      "7 * 1 = 7\n",
      "7 * 2 = 14\n",
      "7 * 3 = 21\n",
      "7 * 4 = 28\n",
      "7 * 5 = 35\n",
      "7 * 6 = 42\n",
      "7 * 7 = 49\n",
      "7 * 8 = 56\n",
      "7 * 9 = 63\n",
      "8 단 구구단\n",
      "8 * 1 = 8\n",
      "8 * 2 = 16\n",
      "8 * 3 = 24\n",
      "8 * 4 = 32\n",
      "8 * 5 = 40\n",
      "8 * 6 = 48\n",
      "8 * 7 = 56\n",
      "8 * 8 = 64\n",
      "8 * 9 = 72\n"
     ]
    }
   ],
   "source": [
    "for multi in range (2, 9):\n",
    "    print (f\"{multi} 단 구구단\")\n",
    "    for i in range (1, 10):\n",
    "        print(f\"{multi} * {i} = {multi * i}\")"
   ]
  },
  {
   "cell_type": "code",
   "execution_count": 20,
   "id": "fd5d3156",
   "metadata": {},
   "outputs": [
    {
     "name": "stdout",
     "output_type": "stream",
     "text": [
      " \n",
      "1 2 3 4 5 6 7 8 9  \n",
      "2 4 6 8 10 12 14 16 18  \n",
      "3 6 9 12 15 18 21 24 27  \n",
      "4 8 12 16 20 24 28 32 36  \n",
      "5 10 15 20 25 30 35 40 45  \n",
      "6 12 18 24 30 36 42 48 54  \n",
      "7 14 21 28 35 42 49 56 63  \n",
      "8 16 24 32 40 48 56 64 72  \n",
      "9 18 27 36 45 54 63 72 81 "
     ]
    }
   ],
   "source": [
    "for multi in range (1, 10):\n",
    "    print (\" \")\n",
    "    for i in range (1, 10):\n",
    "        print(multi*i, end = \" \")"
   ]
  },
  {
   "cell_type": "code",
   "execution_count": 28,
   "id": "72bdfd1b",
   "metadata": {},
   "outputs": [
    {
     "name": "stdout",
     "output_type": "stream",
     "text": [
      "*\n",
      "**\n",
      "***\n",
      "****\n",
      "*****\n",
      "******\n",
      "*******\n",
      "********\n",
      "*********\n",
      "**********\n",
      "***********\n",
      "************\n",
      "*************\n",
      "**************\n",
      "***************\n"
     ]
    }
   ],
   "source": [
    "i = 0\n",
    "for i in range (0, 15):\n",
    "    i = i + 1\n",
    "    print (\"*\" * i)\n"
   ]
  },
  {
   "cell_type": "code",
   "execution_count": 38,
   "id": "e65333be",
   "metadata": {},
   "outputs": [
    {
     "name": "stdout",
     "output_type": "stream",
     "text": [
      "*\n",
      "**\n",
      "***\n",
      "****\n",
      "*****\n",
      "******\n",
      "*******\n",
      "********\n",
      "*********\n",
      "**********\n",
      "***********\n",
      "************\n",
      "*************\n",
      "**************\n",
      "***************\n"
     ]
    }
   ],
   "source": [
    "i = 0\n",
    "for i in range (0, 15):\n",
    "    i = i + 1\n",
    "    print (\"*\" * i)"
   ]
  },
  {
   "cell_type": "code",
   "execution_count": null,
   "id": "8a7963c2",
   "metadata": {},
   "outputs": [],
   "source": []
  },
  {
   "cell_type": "code",
   "execution_count": null,
   "id": "93052a0b",
   "metadata": {},
   "outputs": [],
   "source": []
  }
 ],
 "metadata": {
  "kernelspec": {
   "display_name": "Python 3",
   "language": "python",
   "name": "python3"
  },
  "language_info": {
   "codemirror_mode": {
    "name": "ipython",
    "version": 3
   },
   "file_extension": ".py",
   "mimetype": "text/x-python",
   "name": "python",
   "nbconvert_exporter": "python",
   "pygments_lexer": "ipython3",
   "version": "3.11.8"
  }
 },
 "nbformat": 4,
 "nbformat_minor": 5
}
