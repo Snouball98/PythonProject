{
 "cells": [
  {
   "cell_type": "code",
   "execution_count": 1,
   "id": "f7747435",
   "metadata": {},
   "outputs": [
    {
     "name": "stdout",
     "output_type": "stream",
     "text": [
      "*\n",
      "**\n",
      "***\n",
      "****\n",
      "*****\n",
      "******\n",
      "*******\n",
      "********\n",
      "*********\n",
      "**********\n",
      "***********\n",
      "************\n",
      "*************\n",
      "**************\n",
      "***************\n"
     ]
    }
   ],
   "source": [
    "i = 0\n",
    "for i in range (0, 15):\n",
    "    i = i + 1\n",
    "    print (\"*\" * i)"
   ]
  },
  {
   "cell_type": "code",
   "execution_count": null,
   "id": "ccf5a8eb",
   "metadata": {},
   "outputs": [
    {
     "name": "stdout",
     "output_type": "stream",
     "text": [
      "          \n",
      "         *\n",
      "        ***\n",
      "       *****\n",
      "      *******\n",
      "     *********\n",
      "    ***********\n",
      "   *************\n",
      "  ***************\n",
      " *****************\n",
      "*******************\n"
     ]
    }
   ],
   "source": [
    "n = 10\n",
    "\n",
    "for i in range(0, n+1):\n",
    "    for j in range(n-i):\n",
    "        print(\" \",end='')\n",
    "    for j in range(2 * i - 1):\n",
    "        print(\"*\", end='')   \n",
    "    print()"
   ]
  },
  {
   "cell_type": "code",
   "execution_count": 17,
   "id": "61b2acdc",
   "metadata": {},
   "outputs": [
    {
     "name": "stdout",
     "output_type": "stream",
     "text": [
      "          \n",
      "         *\n",
      "        ***\n",
      "       *****\n",
      "      *******\n",
      "     *********\n",
      "    ***********\n",
      "   *************\n",
      "  ***************\n",
      " *****************\n",
      "*******************\n"
     ]
    }
   ],
   "source": [
    "n = 10\n",
    "for i in range(0, n+1):\n",
    "    spaces =\" \" * (n-i)\n",
    "    stars = (\"*\"* (2*i-1))\n",
    "    print(spaces+stars)"
   ]
  },
  {
   "cell_type": "code",
   "execution_count": null,
   "id": "edebad1c",
   "metadata": {},
   "outputs": [],
   "source": [
    "# for, while에서의 탈출 = break\n",
    "# 중첩반복문에서의 탈출 = "
   ]
  },
  {
   "cell_type": "code",
   "execution_count": 31,
   "id": "13c30136",
   "metadata": {},
   "outputs": [
    {
     "name": "stdout",
     "output_type": "stream",
     "text": [
      " (i =0, j = 0)\n",
      " (i =0, j = 1)\n",
      " (i =0, j = 2)\n",
      " (i =0, j = 3)\n",
      " (i =0, j = 4)\n",
      " (i =1, j = 0)\n",
      " (i =1, j = 1)\n",
      " (i =1, j = 2)\n",
      " (i =1, j = 3)\n",
      " (i =1, j = 4)\n",
      " (i =2, j = 0)\n",
      " (i =2, j = 1)\n",
      " (i =2, j = 2)\n",
      " (i =2, j = 3)\n",
      "6\n"
     ]
    }
   ],
   "source": [
    "number = 0\n",
    "for i in range(5):\n",
    "    for j in range(5):\n",
    "        print(f\" (i ={i}, j = {j})\")\n",
    "        number = i * j\n",
    "        if i == 2 and j == 3 :\n",
    "            break\n",
    "    if i == 2 and j == 3 :\n",
    "        break\n",
    "            \n",
    "    \n",
    "print(number)"
   ]
  },
  {
   "cell_type": "code",
   "execution_count": null,
   "id": "340d2b5f",
   "metadata": {},
   "outputs": [
    {
     "name": "stdout",
     "output_type": "stream",
     "text": [
      " (i =0, j = 0)\n",
      " (i =0, j = 1)\n",
      " (i =0, j = 2)\n",
      " (i =0, j = 3)\n",
      " (i =0, j = 4)\n",
      " (i =1, j = 0)\n",
      " (i =1, j = 1)\n",
      " (i =1, j = 2)\n",
      " (i =1, j = 3)\n",
      " (i =1, j = 4)\n",
      " (i =2, j = 0)\n",
      " (i =2, j = 1)\n",
      " (i =2, j = 2)\n",
      " (i =2, j = 3)\n",
      "6\n"
     ]
    }
   ],
   "source": [
    "number = 0\n",
    "break_all = False #상태 저장 변수\n",
    "\n",
    "for i in range(5):\n",
    "    for j in range(5):\n",
    "        print(f\" (i ={i}, j = {j})\") #디버깅 확인용\n",
    "        number = i * j\n",
    "        if i == 2 and j == 3 :\n",
    "            break_all = True\n",
    "            break\n",
    "    if break_all :\n",
    "        break\n",
    "            \n",
    "    \n",
    "print(number)"
   ]
  },
  {
   "cell_type": "code",
   "execution_count": null,
   "id": "8bd3c0a6",
   "metadata": {},
   "outputs": [
    {
     "name": "stdout",
     "output_type": "stream",
     "text": [
      "                                       \n",
      "                                      *\n",
      "                                     ***\n",
      "                                    *****\n",
      "                                   *******\n",
      "                                  *********\n",
      "                                 ***********\n",
      "                                *************\n",
      "                               ***************\n",
      "                              *****************\n",
      "                             *******************\n",
      "                            *********************\n",
      "                           ***********************\n",
      "                          *************************\n",
      "                         ***************************\n",
      "                        *****************************\n",
      "                       *******************************\n",
      "                      *********************************\n",
      "                     ***********************************\n",
      "                    *************************************\n",
      "                   ***************************************\n",
      "                  *****************************************\n",
      "                 *******************************************\n",
      "                *********************************************\n",
      "               ***********************************************\n",
      "              *************************************************\n",
      "             ***************************************************\n",
      "            *****************************************************\n",
      "           *******************************************************\n",
      "          *********************************************************\n",
      "         ***********************************************************\n",
      "        *************************************************************\n",
      "       ***************************************************************\n",
      "      *****************************************************************\n",
      "     *******************************************************************\n",
      "    *********************************************************************\n",
      "   ***********************************************************************\n",
      "  *************************************************************************\n",
      " ***************************************************************************\n",
      "*****************************************************************************\n"
     ]
    }
   ],
   "source": [
    "### 사용자로부터 n개의 별의 개수 받은 뒤, 별을 출력\n",
    "### 별의 갯수만큼 출력하다가 별이 다 소진되면 멈추는 코드 출력\n",
    "### 트리의 최대 코드는 10층\n",
    "\n",
    "n = int(input(\"원하는 별의 개수를 입력하세요\"))\n",
    "\n",
    "for i in range(0, n+1):\n",
    "    for j in range(n-i):\n",
    "        print(\" \",end='')\n",
    "    for j in range(2 * i - 1):\n",
    "        print(\"*\", end='')   \n",
    "    print()"
   ]
  },
  {
   "cell_type": "code",
   "execution_count": null,
   "id": "91058687",
   "metadata": {},
   "outputs": [
    {
     "name": "stdout",
     "output_type": "stream",
     "text": [
      "*\n",
      "**\n",
      "***\n",
      "****\n",
      "*****\n",
      "******\n",
      "*******\n",
      "********\n",
      "*********\n",
      "**********\n",
      "***********\n",
      "************\n",
      "*************\n",
      "**************\n",
      "***************\n"
     ]
    }
   ],
   "source": [
    "i = 0\n",
    "for i in range (0):\n",
    "    i = i + 1\n",
    "    if i == 30 :\n",
    "        break\n",
    "    print (\"*\" * i)"
   ]
  },
  {
   "cell_type": "code",
   "execution_count": null,
   "id": "3d386765",
   "metadata": {},
   "outputs": [
    {
     "name": "stdout",
     "output_type": "stream",
     "text": [
      "                   *        ***       *****      *******     *********    ***********   *************  *************** ************************************"
     ]
    },
    {
     "ename": "SyntaxError",
     "evalue": "'break' outside loop (806111226.py, line 15)",
     "output_type": "error",
     "traceback": [
      "  \u001b[36mCell\u001b[39m\u001b[36m \u001b[39m\u001b[32mIn[42]\u001b[39m\u001b[32m, line 15\u001b[39m\n\u001b[31m    \u001b[39m\u001b[31mbreak\u001b[39m\n    ^\n\u001b[31mSyntaxError\u001b[39m\u001b[31m:\u001b[39m 'break' outside loop\n"
     ]
    }
   ],
   "source": [
    "### 사용자로부터 n개의 별의 개수 받은 뒤, 별을 출력\n",
    "### 별의 갯수만큼 출력하다가 별이 다 소진되면 멈추는 코드 출력\n",
    "### 트리의 최대 코드는 10층\n",
    "\n",
    "n = 10\n",
    "number = int(input(\"원하는 별의 개수를 입력하세요\"))\n",
    "\n",
    "for i in range(0, n+1):\n",
    "    for j in range(n-i):\n",
    "        print(\" \",end='')\n",
    "    for j in range(2 * i - 1):\n",
    "        print(\"*\", end='')   \n",
    "\n",
    "    if i+j == number :\n",
    "        break\n",
    "\n",
    "    print(\"*\" * n)"
   ]
  },
  {
   "cell_type": "code",
   "execution_count": null,
   "id": "8e2060ee",
   "metadata": {},
   "outputs": [
    {
     "name": "stdout",
     "output_type": "stream",
     "text": [
      "*\n",
      "**\n"
     ]
    }
   ],
   "source": [
    "n = int(input(\"원하는 별의 개수를 입력하세요\"))\n",
    "\n",
    "star = 0\n",
    "break_all = False #상태 플래그, 어디에서든 조건이 만족되면 ~ 스위치 같은 역할\n",
    "\n",
    "\n",
    "for i in range(1, 10+1): #최대 높이 10층 제한 설정\n",
    "    for j in range (i):\n",
    "        star += 1\n",
    "        if star > n:\n",
    "            break_all = True\n",
    "            break\n",
    "        print ('*', end ='')\n",
    "    if break_all:\n",
    "        break\n",
    "    print()\n",
    "    "
   ]
  },
  {
   "cell_type": "code",
   "execution_count": null,
   "id": "46fa9407",
   "metadata": {},
   "outputs": [
    {
     "name": "stdout",
     "output_type": "stream",
     "text": [
      "Life\n",
      "n\n",
      "Pyth\n",
      "Python\n",
      "Hlo yhn\n",
      "Hl tn\n",
      "nohtyP ,olleH\n"
     ]
    },
    {
     "data": {
      "text/plain": [
       "13"
      ]
     },
     "execution_count": 67,
     "metadata": {},
     "output_type": "execute_result"
    }
   ],
   "source": [
    "mystr = \"Life is too short.\"\n",
    "my_str = \"Hello, Python\"\n",
    "#인덱스는 대부분 0부터 시작함.\n",
    "\n",
    "print(mystr[0:4])\n",
    "print(my_str[-1])\n",
    "print(my_str[7:11])\n",
    "print(my_str[7:])\n",
    "print(my_str[::2]) # 두 칸씩 띄고 프린트, 슬라이싱\n",
    "\n",
    "#슬라이싱 [start:end:step]\n",
    "print(my_str[::3])\n",
    "print(my_str[::-1]) #음수 슬라이싱도 가능하다.\n",
    "\n",
    "type(my_str)\n",
    "len(my_str)\n",
    "for "
   ]
  },
  {
   "cell_type": "code",
   "execution_count": null,
   "id": "22b99ef8",
   "metadata": {},
   "outputs": [
    {
     "name": "stdout",
     "output_type": "stream",
     "text": [
      "H\n",
      "e\n",
      "l\n",
      "l\n",
      "o\n",
      ",\n",
      " \n",
      "P\n",
      "y\n",
      "t\n",
      "h\n",
      "o\n",
      "n\n"
     ]
    }
   ],
   "source": [
    "# for i in range (바구니) 처럼\n",
    "# my_str도 바구니가 될 수 있다.\n",
    "my_str = \"Hello, Python\"\n",
    "for i in my_str :\n",
    "    print(i)\n",
    "    \n",
    "my_str = \"Hello, Python\"\n",
    "for i in range(len(my_str)) :\n",
    "    print(my_str[i])\n",
    "    "
   ]
  },
  {
   "cell_type": "code",
   "execution_count": null,
   "id": "0803ce25",
   "metadata": {},
   "outputs": [
    {
     "data": {
      "text/plain": [
       "'Hello, Python'"
      ]
     },
     "execution_count": 78,
     "metadata": {},
     "output_type": "execute_result"
    }
   ],
   "source": [
    "# for i in range (바구니) 처럼\n",
    "# my_str도 바구니가 될 수 있다.\n",
    "my_str = \"Hello, Python\"\n",
    "    \n",
    "# lower은 전체 소문자로 변경, upper은 전체 대문자로 변경\n",
    "my_str.lower() # 점을 찍으면 다양한 기능 사용 가능\n",
    "my_str.upper()\n",
    "my_str.strip()"
   ]
  },
  {
   "cell_type": "code",
   "execution_count": 83,
   "id": "ded27f19",
   "metadata": {},
   "outputs": [
    {
     "name": "stdout",
     "output_type": "stream",
     "text": [
      "['Hello', ' Python']\n"
     ]
    }
   ],
   "source": [
    "words = my_str.split(',') #두개의 문자열로 쪼개는거\n",
    "print(words)"
   ]
  },
  {
   "cell_type": "code",
   "execution_count": 86,
   "id": "466cef7b",
   "metadata": {},
   "outputs": [],
   "source": [
    "# 자료형\n",
    "\n",
    "#복합 자료형, 컬렉션 자료형\n",
    "\n",
    "#리스트(List) - [ ] \n",
    "#복수의 데이터를 순서대로 저장하고 조작하는 기본 자료형\n",
    "\n",
    "numbers1 = [1, 2, 3, 4, 5]\n",
    "numbers2 = [6, 7, 8, 9, 10]"
   ]
  },
  {
   "cell_type": "code",
   "execution_count": 88,
   "id": "06f983ad",
   "metadata": {},
   "outputs": [],
   "source": [
    "fruits = ['apple', 'banana', 'mango']\n",
    "mixed = [1, \"apple\", True, [10, 20, 30]]"
   ]
  },
  {
   "cell_type": "code",
   "execution_count": 89,
   "id": "8fa1d3ab",
   "metadata": {},
   "outputs": [
    {
     "data": {
      "text/plain": [
       "[1, 2, 3, 4, 5, 6, 7, 8, 9, 10]"
      ]
     },
     "execution_count": 89,
     "metadata": {},
     "output_type": "execute_result"
    }
   ],
   "source": [
    "numbers1 + numbers2"
   ]
  },
  {
   "cell_type": "code",
   "execution_count": null,
   "id": "220f2a5a",
   "metadata": {},
   "outputs": [
    {
     "data": {
      "text/plain": [
       "[1, 2, 3, 4, 5, 1, 2, 3, 4, 5, 1, 2, 3, 4, 5]"
      ]
     },
     "execution_count": 90,
     "metadata": {},
     "output_type": "execute_result"
    }
   ],
   "source": [
    "numbers1 * 3 #리스트의 반복 연산"
   ]
  },
  {
   "cell_type": "code",
   "execution_count": 91,
   "id": "e3d22025",
   "metadata": {},
   "outputs": [
    {
     "data": {
      "text/plain": [
       "'mango'"
      ]
     },
     "execution_count": 91,
     "metadata": {},
     "output_type": "execute_result"
    }
   ],
   "source": [
    "fruits[-1]"
   ]
  },
  {
   "cell_type": "code",
   "execution_count": 92,
   "id": "6bf3c715",
   "metadata": {},
   "outputs": [
    {
     "data": {
      "text/plain": [
       "['apple', 'banana']"
      ]
     },
     "execution_count": 92,
     "metadata": {},
     "output_type": "execute_result"
    }
   ],
   "source": [
    "fruits[:2]"
   ]
  },
  {
   "cell_type": "code",
   "execution_count": 94,
   "id": "6dcad020",
   "metadata": {},
   "outputs": [
    {
     "name": "stdout",
     "output_type": "stream",
     "text": [
      "['grape', 'banana', 'mango']\n"
     ]
    }
   ],
   "source": [
    "fruits[0] = 'grape' # 기존 리스트의 값을 수정\n",
    "print(fruits)"
   ]
  },
  {
   "cell_type": "code",
   "execution_count": 97,
   "id": "7e2d7b46",
   "metadata": {},
   "outputs": [
    {
     "data": {
      "text/plain": [
       "['grape', 'banana', 'mango', 'cherry', 'cherry', 'cherry']"
      ]
     },
     "execution_count": 97,
     "metadata": {},
     "output_type": "execute_result"
    }
   ],
   "source": [
    "fruits.append('cherry') #리스트에 새로운 값 추가\n",
    "fruits"
   ]
  },
  {
   "cell_type": "code",
   "execution_count": null,
   "id": "37decd0b",
   "metadata": {},
   "outputs": [],
   "source": [
    "#인덱스 사이에 (중간에) 새로운 인덱스 추가하려면\n",
    "fruits.insert(2, 'kiwi')\n",
    "fruits"
   ]
  },
  {
   "cell_type": "code",
   "execution_count": 107,
   "id": "17d923af",
   "metadata": {},
   "outputs": [
    {
     "data": {
      "text/plain": [
       "['grape',\n",
       " 'banana',\n",
       " 'kiwi',\n",
       " 'kiwi',\n",
       " 'mango',\n",
       " 'cherry',\n",
       " 'cherry',\n",
       " 'cherry',\n",
       " 'orange',\n",
       " 'date',\n",
       " 'orange',\n",
       " 'date']"
      ]
     },
     "execution_count": 107,
     "metadata": {},
     "output_type": "execute_result"
    }
   ],
   "source": [
    "fruits.extend(['orange', 'date'])\n",
    "fruits"
   ]
  },
  {
   "cell_type": "code",
   "execution_count": null,
   "id": "64d7094f",
   "metadata": {},
   "outputs": [
    {
     "data": {
      "text/plain": [
       "['grape', 'banana', 'kiwi', 'kiwi', 'mango', 'cherry', 'cherry', 'cherry']"
      ]
     },
     "execution_count": 111,
     "metadata": {},
     "output_type": "execute_result"
    }
   ],
   "source": [
    "#리스트에서 맨 마지막 인덱스 삭제하고 싶으면 pop\n",
    "fruits.pop()\n",
    "fruits\n"
   ]
  },
  {
   "cell_type": "code",
   "execution_count": null,
   "id": "aceea39a",
   "metadata": {},
   "outputs": [
    {
     "data": {
      "text/plain": [
       "['grape', 'kiwi', 'kiwi', 'mango', 'cherry', 'cherry', 'cherry']"
      ]
     },
     "execution_count": 113,
     "metadata": {},
     "output_type": "execute_result"
    }
   ],
   "source": [
    "#몇 번째 인덱스 요소를 삭제하겠다고 하면 괄호 안에 숫자넣고 pop\n",
    "fruits.pop(1)\n",
    "fruits"
   ]
  },
  {
   "cell_type": "code",
   "execution_count": 122,
   "id": "d2c3c250",
   "metadata": {},
   "outputs": [
    {
     "data": {
      "text/plain": [
       "['grape', 'kiwi', 'mango', 'cherry']"
      ]
     },
     "execution_count": 122,
     "metadata": {},
     "output_type": "execute_result"
    }
   ],
   "source": [
    "#인덱스 이름으로 삭제하는 방법은 remove\n",
    "fruits.remove('kiwi')\n",
    "fruits"
   ]
  },
  {
   "cell_type": "code",
   "execution_count": 117,
   "id": "f16981eb",
   "metadata": {},
   "outputs": [
    {
     "data": {
      "text/plain": [
       "1"
      ]
     },
     "execution_count": 117,
     "metadata": {},
     "output_type": "execute_result"
    }
   ],
   "source": [
    "fruits.index('kiwi') #어떤 요소의 인덱스 번호를 알려달라"
   ]
  },
  {
   "cell_type": "code",
   "execution_count": 119,
   "id": "08b253cf",
   "metadata": {},
   "outputs": [
    {
     "data": {
      "text/plain": [
       "2"
      ]
     },
     "execution_count": 119,
     "metadata": {},
     "output_type": "execute_result"
    }
   ],
   "source": [
    "fruits.count('cherry') #해당 인덱스가 몇 개 있는지 세주는"
   ]
  },
  {
   "cell_type": "code",
   "execution_count": 125,
   "id": "a4da3faf",
   "metadata": {},
   "outputs": [
    {
     "data": {
      "text/plain": [
       "['mango', 'kiwi', 'grape', 'cherry']"
      ]
     },
     "execution_count": 125,
     "metadata": {},
     "output_type": "execute_result"
    }
   ],
   "source": [
    "fruits.sort() #오름차순 정렬\n",
    "fruits.sort(reverse=True)\n",
    "fruits"
   ]
  },
  {
   "cell_type": "code",
   "execution_count": 132,
   "id": "eac4b03c",
   "metadata": {},
   "outputs": [
    {
     "data": {
      "text/plain": [
       "1"
      ]
     },
     "execution_count": 132,
     "metadata": {},
     "output_type": "execute_result"
    }
   ],
   "source": [
    "fruits.reverse() #인덱스 번호만 뒤집는 것\n",
    "fruits\n",
    "fruits.index('kiwi')"
   ]
  },
  {
   "cell_type": "code",
   "execution_count": 133,
   "id": "810742db",
   "metadata": {},
   "outputs": [],
   "source": [
    "fruits = ['apple', 'banana', 'mango', 'cherry']"
   ]
  },
  {
   "cell_type": "code",
   "execution_count": 137,
   "id": "3366a382",
   "metadata": {},
   "outputs": [
    {
     "name": "stdout",
     "output_type": "stream",
     "text": [
      "1번째 과일apple\n",
      "2번째 과일banana\n",
      "3번째 과일mango\n",
      "4번째 과일cherry\n"
     ]
    }
   ],
   "source": [
    "for i in range(len(fruits)):\n",
    "    print(f\"{i+1}번째 과일{fruits[i]}\")"
   ]
  },
  {
   "cell_type": "code",
   "execution_count": 138,
   "id": "93919d33",
   "metadata": {},
   "outputs": [],
   "source": [
    "numbers = [10, 20, 30, 40, 50]"
   ]
  },
  {
   "cell_type": "code",
   "execution_count": null,
   "id": "3c8b42e4",
   "metadata": {},
   "outputs": [
    {
     "data": {
      "text/plain": [
       "50"
      ]
     },
     "execution_count": 139,
     "metadata": {},
     "output_type": "execute_result"
    }
   ],
   "source": [
    "max(numbers) #가장 큰거 출력, 내장 함수가 알아서 처리 해줌"
   ]
  },
  {
   "cell_type": "code",
   "execution_count": 140,
   "id": "17dbd391",
   "metadata": {},
   "outputs": [
    {
     "data": {
      "text/plain": [
       "10"
      ]
     },
     "execution_count": 140,
     "metadata": {},
     "output_type": "execute_result"
    }
   ],
   "source": [
    "min(numbers)"
   ]
  },
  {
   "cell_type": "code",
   "execution_count": 141,
   "id": "ce6cc87e",
   "metadata": {},
   "outputs": [
    {
     "data": {
      "text/plain": [
       "150"
      ]
     },
     "execution_count": 141,
     "metadata": {},
     "output_type": "execute_result"
    }
   ],
   "source": [
    "sum(numbers)"
   ]
  },
  {
   "cell_type": "code",
   "execution_count": 143,
   "id": "165c0d55",
   "metadata": {},
   "outputs": [
    {
     "data": {
      "text/plain": [
       "30.0"
      ]
     },
     "execution_count": 143,
     "metadata": {},
     "output_type": "execute_result"
    }
   ],
   "source": [
    "sum(numbers)/len(numbers)"
   ]
  },
  {
   "cell_type": "code",
   "execution_count": 154,
   "id": "79a2392a",
   "metadata": {},
   "outputs": [],
   "source": [
    "#규칙성을 가진 숫자들을 리스트로 만들어 내는 방법\n",
    "#반복문을 이용해서 리스트를 간단하게 생성 가능\n",
    "# 리스트 컴프리헨션\n",
    "numbers = [i+1 for i in range(10)]"
   ]
  },
  {
   "cell_type": "code",
   "execution_count": null,
   "id": "fb4b75d9",
   "metadata": {},
   "outputs": [
    {
     "data": {
      "text/plain": [
       "[0, 1, 4, 9, 16, 25, 36, 49, 64, 81]"
      ]
     },
     "execution_count": 158,
     "metadata": {},
     "output_type": "execute_result"
    }
   ],
   "source": [
    "# 0~9까지의 제곱 수들 구하는 방법\n",
    "numbers = [i**2 for i in range(10)]\n",
    "numbers"
   ]
  },
  {
   "cell_type": "code",
   "execution_count": 157,
   "id": "2952b9eb",
   "metadata": {},
   "outputs": [
    {
     "data": {
      "text/plain": [
       "[0, 1, 2, 3, 4, 5, 6, 7, 8, 9]"
      ]
     },
     "execution_count": 157,
     "metadata": {},
     "output_type": "execute_result"
    }
   ],
   "source": [
    "num_list=[]\n",
    "for i in range(10):\n",
    "    # print(i)\n",
    "    num_list.append(i)\n",
    "num_list"
   ]
  },
  {
   "cell_type": "code",
   "execution_count": 159,
   "id": "07216a2a",
   "metadata": {},
   "outputs": [
    {
     "data": {
      "text/plain": [
       "[0, 2, 4, 6, 8]"
      ]
     },
     "execution_count": 159,
     "metadata": {},
     "output_type": "execute_result"
    }
   ],
   "source": [
    "num_list=[]\n",
    "for i in range(10):\n",
    "    # print(i)\n",
    "    if i % 2 == 0:\n",
    "        num_list.append(i)\n",
    "num_list"
   ]
  },
  {
   "cell_type": "code",
   "execution_count": 161,
   "id": "7666d77d",
   "metadata": {},
   "outputs": [],
   "source": [
    "numbers = [i for i in range(1, 10+1) if i%2 == 0]"
   ]
  },
  {
   "cell_type": "code",
   "execution_count": 162,
   "id": "e55ec2be",
   "metadata": {},
   "outputs": [
    {
     "data": {
      "text/plain": [
       "[2, 4, 6, 8, 10]"
      ]
     },
     "execution_count": 162,
     "metadata": {},
     "output_type": "execute_result"
    }
   ],
   "source": [
    "numbers"
   ]
  },
  {
   "cell_type": "code",
   "execution_count": 172,
   "id": "ed760f21",
   "metadata": {},
   "outputs": [
    {
     "name": "stdout",
     "output_type": "stream",
     "text": [
      "1번째 학생은 합격입니다.\n",
      "2번째 학생은 불합격입니다.\n",
      "3번째 학생은 합격입니다.\n",
      "4번째 학생은 불합격입니다.\n",
      "5번째 학생은 합격입니다.\n"
     ]
    }
   ],
   "source": [
    "marks = [90, 25, 67, 45, 80]\n",
    "\n",
    "number = 0\n",
    "\n",
    "for i in marks:\n",
    "    number += 1\n",
    "    if i >= 60:\n",
    "        print(f\"{number}번째 학생은 합격입니다.\")\n",
    "    else:\n",
    "        print(f\"{number}번째 학생은 불합격입니다.\")\n"
   ]
  },
  {
   "cell_type": "code",
   "execution_count": 175,
   "id": "d54f861c",
   "metadata": {},
   "outputs": [
    {
     "name": "stdout",
     "output_type": "stream",
     "text": [
      "1번째 학생은 합격입니다.\n",
      "2번째 학생은 불합격입니다.\n",
      "3번째 학생은 합격입니다.\n",
      "4번째 학생은 불합격입니다.\n",
      "5번째 학생은 합격입니다.\n"
     ]
    }
   ],
   "source": [
    "marks = [90, 25, 67, 45, 80]\n",
    "\n",
    "for i in range(len(marks)):\n",
    "    #print(i, marks[i]\n",
    "    if marks[i] >= 60:\n",
    "        print(f\"{i+1}번째 학생은 합격입니다.\")\n",
    "    else:\n",
    "        print(f\"{i+1}번째 학생은 불합격입니다.\")"
   ]
  },
  {
   "cell_type": "code",
   "execution_count": 202,
   "id": "18a7fe58",
   "metadata": {},
   "outputs": [
    {
     "name": "stdout",
     "output_type": "stream",
     "text": [
      "끝말잇기 게임을 시작합니다.\n",
      "시작단어는 가나다입니다.\n",
      "가나다\n",
      "다람쥐\n",
      "쥐포\n",
      "포항\n",
      "틀렸습니다. 게임을 종료합니다\n"
     ]
    }
   ],
   "source": [
    "print (\"끝말잇기 게임을 시작합니다.\")\n",
    "var = \"가나다\"\n",
    "print(f\"시작단어는 {var}입니다.\")\n",
    "print (var)\n",
    "\n",
    "while True:\n",
    "    answer = input(\"단어를 입력해주세요 : \")\n",
    "    if answer[0] == var[-1] :\n",
    "        print (answer)\n",
    "        var = answer #덮어써주기\n",
    "    else :\n",
    "        print (\"틀렸습니다. 게임을 종료합니다\")\n",
    "        break\n"
   ]
  },
  {
   "cell_type": "code",
   "execution_count": null,
   "id": "1bf81b84",
   "metadata": {},
   "outputs": [
    {
     "data": {
      "text/plain": [
       "[1, 3, 0, 1]"
      ]
     },
     "execution_count": 205,
     "metadata": {},
     "output_type": "execute_result"
    }
   ],
   "source": [
    "#리스트 numbers의 각 원소는 숫자 0~9\n",
    "#이 때, numbers에서 연속적으로 나타나는 숫자는 하나만 남기고 전부 제거\n",
    "# 단 제거 후 남은 수들을 반환할 때는 numbers의 원소들의 순서 유지해야\n",
    "# EX\n",
    "# numbers = 1,1,3,3,0,1,1 => 1, 3, 0, 1\n",
    "# numbers 4, 4, 4, 3, 3, => 4, 3\n",
    "\n",
    "\n",
    "numbers = [1, 1, 3, 3, 0, 1, 1]\n",
    "\n",
    "answer = []\n",
    "\n",
    "comp = numbers [0] #compare \n",
    "answer.append(comp)\n",
    "\n",
    "for i in numbers :\n",
    "    if comp != i: #이전 숫자와 같은지 비교\n",
    "        comp = i #다르다면 비교할 숫자 갱신\n",
    "        answer.append(comp) #새로운 숫자이므로 리스트에 삽입\n",
    "\n",
    "answer"
   ]
  },
  {
   "cell_type": "markdown",
   "id": "93fd8cba",
   "metadata": {},
   "source": [
    "딕셔너리"
   ]
  },
  {
   "cell_type": "code",
   "execution_count": null,
   "id": "3afe038b",
   "metadata": {},
   "outputs": [],
   "source": [
    "#딕셔너리\n",
    "#순서가 없는 컬렉션 자료형 {키 : 값} 형태로 저장됨.\n",
    "#키는 중복할 수 없지만, 값은 중복 가능"
   ]
  },
  {
   "cell_type": "code",
   "execution_count": 239,
   "id": "7800d322",
   "metadata": {},
   "outputs": [],
   "source": [
    "student = {'name':'Jimin', 'age':29, 'hobby':'game'}\n",
    "\n",
    "# student = {'name':'Jimin', 'age':29, 'hobby':'game', 'name':'망개'}라고 해버리면? - Jimin 사라짐\n",
    "\n",
    "student = {'name':'Jimin', 'age':29, 'hobby':'game', 'nickname':'Jimin'}\n",
    "# 키만 고유하면 값은 중복되어도 상관 X\n"
   ]
  },
  {
   "cell_type": "code",
   "execution_count": 208,
   "id": "2520ac9b",
   "metadata": {},
   "outputs": [],
   "source": [
    "mydict = {}\n",
    "mydict = dict()\n",
    "mylist = []\n",
    "mylist = list()\n"
   ]
  },
  {
   "cell_type": "code",
   "execution_count": 212,
   "id": "4ecae24e",
   "metadata": {},
   "outputs": [
    {
     "data": {
      "text/plain": [
       "29"
      ]
     },
     "execution_count": 212,
     "metadata": {},
     "output_type": "execute_result"
    }
   ],
   "source": [
    "student['age']"
   ]
  },
  {
   "cell_type": "code",
   "execution_count": 216,
   "id": "818bd7f4",
   "metadata": {},
   "outputs": [
    {
     "data": {
      "text/plain": [
       "dict_keys(['name', 'age', 'hobby', 'nickname'])"
      ]
     },
     "execution_count": 216,
     "metadata": {},
     "output_type": "execute_result"
    }
   ],
   "source": [
    "student.keys()"
   ]
  },
  {
   "cell_type": "code",
   "execution_count": 217,
   "id": "3134d497",
   "metadata": {},
   "outputs": [
    {
     "data": {
      "text/plain": [
       "dict_values(['Jimin', 29, 'game', 'Jimin'])"
      ]
     },
     "execution_count": 217,
     "metadata": {},
     "output_type": "execute_result"
    }
   ],
   "source": [
    "student.values()"
   ]
  },
  {
   "cell_type": "code",
   "execution_count": null,
   "id": "8c6926ec",
   "metadata": {},
   "outputs": [
    {
     "data": {
      "text/plain": [
       "dict_items([('name', 'Jimin'), ('age', 29), ('hobby', 'game'), ('nickname', 'Jimin')])"
      ]
     },
     "execution_count": 219,
     "metadata": {},
     "output_type": "execute_result"
    }
   ],
   "source": [
    "student.items()\n",
    "# 키와 밸류를 소괄호로 묶어서 (튜플) 형태로 묶어서 리스트로 운영\n"
   ]
  },
  {
   "cell_type": "code",
   "execution_count": 221,
   "id": "cd849336",
   "metadata": {},
   "outputs": [
    {
     "name": "stdout",
     "output_type": "stream",
     "text": [
      "name\n",
      "age\n",
      "hobby\n",
      "nickname\n"
     ]
    }
   ],
   "source": [
    "for i in student.keys():\n",
    "    print(i)"
   ]
  },
  {
   "cell_type": "code",
   "execution_count": 222,
   "id": "e918e1ea",
   "metadata": {},
   "outputs": [
    {
     "name": "stdout",
     "output_type": "stream",
     "text": [
      "Jimin\n",
      "29\n",
      "game\n",
      "Jimin\n"
     ]
    }
   ],
   "source": [
    "for i in student.values():\n",
    "    print(i)\n",
    "\n"
   ]
  },
  {
   "cell_type": "code",
   "execution_count": 224,
   "id": "83f8e37e",
   "metadata": {},
   "outputs": [
    {
     "name": "stdout",
     "output_type": "stream",
     "text": [
      "('name', 'Jimin')\n",
      "('age', 29)\n",
      "('hobby', 'game')\n",
      "('nickname', 'Jimin')\n"
     ]
    }
   ],
   "source": [
    "for i in student.items():\n",
    "    print(i)"
   ]
  },
  {
   "cell_type": "code",
   "execution_count": 225,
   "id": "3391be69",
   "metadata": {},
   "outputs": [],
   "source": [
    "student['nickname'] = '망개떡'"
   ]
  },
  {
   "cell_type": "code",
   "execution_count": 226,
   "id": "7d7a7742",
   "metadata": {},
   "outputs": [
    {
     "data": {
      "text/plain": [
       "{'name': 'Jimin', 'age': 29, 'hobby': 'game', 'nickname': '망개떡'}"
      ]
     },
     "execution_count": 226,
     "metadata": {},
     "output_type": "execute_result"
    }
   ],
   "source": [
    "student"
   ]
  },
  {
   "cell_type": "code",
   "execution_count": null,
   "id": "bcdf54c1",
   "metadata": {},
   "outputs": [],
   "source": [
    "student['addr'] = '서울시 용산구'\n",
    "#없는 키-값을 입력하면 추가가 됨 (List와는 달리 오류가 나지 X)"
   ]
  },
  {
   "cell_type": "code",
   "execution_count": null,
   "id": "79f6df1a",
   "metadata": {},
   "outputs": [
    {
     "ename": "KeyError",
     "evalue": "'addr2'",
     "output_type": "error",
     "traceback": [
      "\u001b[31m---------------------------------------------------------------------------\u001b[39m",
      "\u001b[31mKeyError\u001b[39m                                  Traceback (most recent call last)",
      "\u001b[36mCell\u001b[39m\u001b[36m \u001b[39m\u001b[32mIn[231]\u001b[39m\u001b[32m, line 1\u001b[39m\n\u001b[32m----> \u001b[39m\u001b[32m1\u001b[39m \u001b[43mstudent\u001b[49m\u001b[43m[\u001b[49m\u001b[33;43m'\u001b[39;49m\u001b[33;43maddr2\u001b[39;49m\u001b[33;43m'\u001b[39;49m\u001b[43m]\u001b[49m\n",
      "\u001b[31mKeyError\u001b[39m: 'addr2'"
     ]
    }
   ],
   "source": []
  },
  {
   "cell_type": "code",
   "execution_count": 229,
   "id": "b3278424",
   "metadata": {},
   "outputs": [],
   "source": [
    "student.get('addr2')"
   ]
  },
  {
   "cell_type": "code",
   "execution_count": 235,
   "id": "a1dd4e8c",
   "metadata": {},
   "outputs": [
    {
     "data": {
      "text/plain": [
       "29"
      ]
     },
     "execution_count": 235,
     "metadata": {},
     "output_type": "execute_result"
    }
   ],
   "source": [
    "student.pop('age')"
   ]
  },
  {
   "cell_type": "code",
   "execution_count": 236,
   "id": "f492fa44",
   "metadata": {},
   "outputs": [
    {
     "data": {
      "text/plain": [
       "('addr', '서울시 용산구')"
      ]
     },
     "execution_count": 236,
     "metadata": {},
     "output_type": "execute_result"
    }
   ],
   "source": [
    "student.popitem() #마지막으로 보여졌던 아이템"
   ]
  },
  {
   "cell_type": "code",
   "execution_count": null,
   "id": "7502e7d9",
   "metadata": {},
   "outputs": [
    {
     "data": {
      "text/plain": [
       "True"
      ]
     },
     "execution_count": 237,
     "metadata": {},
     "output_type": "execute_result"
    }
   ],
   "source": [
    "'name' in student.keys() #값이, 키가 있는지 없는지 확인 가능"
   ]
  },
  {
   "cell_type": "code",
   "execution_count": 240,
   "id": "260e653c",
   "metadata": {},
   "outputs": [
    {
     "data": {
      "text/plain": [
       "True"
      ]
     },
     "execution_count": 240,
     "metadata": {},
     "output_type": "execute_result"
    }
   ],
   "source": [
    "29 in student.values()"
   ]
  },
  {
   "cell_type": "code",
   "execution_count": 242,
   "id": "c5b024ea",
   "metadata": {},
   "outputs": [
    {
     "name": "stdout",
     "output_type": "stream",
     "text": [
      "name Jimin\n",
      "age 29\n",
      "hobby game\n",
      "nickname Jimin\n"
     ]
    }
   ],
   "source": [
    "for i in student.items():\n",
    "    print(i[0], i[1])"
   ]
  },
  {
   "cell_type": "code",
   "execution_count": 244,
   "id": "7f5ab89c",
   "metadata": {},
   "outputs": [
    {
     "name": "stdout",
     "output_type": "stream",
     "text": [
      "name Jimin\n",
      "age 29\n",
      "hobby game\n",
      "nickname Jimin\n"
     ]
    }
   ],
   "source": [
    "for i, j in student.items():\n",
    "    print(i, j)"
   ]
  },
  {
   "cell_type": "markdown",
   "id": "3ffdaff9",
   "metadata": {},
   "source": [
    "##모스부호  \n",
    "\n",
    "문자열 letter가 주어질 때, letter를 영어 소문자로 바꾼 문자열을 출력 하도록 코드작성 \n",
    "\n",
    "모스부호는 다음과 같습니다. \n",
    "\n",
    "morse = { \n",
    "\n",
    "    '.-':'a','-...':'b','-.-.':'c','-..':'d','.':'e','..-.':'f', \n",
    "\n",
    "    '--.':'g','....':'h','..':'i','.---':'j','-.-':'k','.-..':'l', \n",
    "\n",
    "    '--':'m','-.':'n','---':'o','.--.':'p','--.-':'q','.-.':'r', \n",
    "\n",
    "    '...':'s','-':'t','..-':'u','...-':'v','.--':'w','-..-':'x', \n",
    "\n",
    "    '-.--':'y','--..':'z' \n",
    "\n",
    "} \n",
    "\n",
    "입출력 예 \n",
    "\n",
    "letter  result \n",
    "\n",
    "\".... . .-.. .-.. ---\"  \"hello\" \n",
    "\n",
    "\".--. -.-- - .... --- -.\"   \"python\" \n",
    "\n",
    " "
   ]
  },
  {
   "cell_type": "code",
   "execution_count": 254,
   "id": "47832746",
   "metadata": {},
   "outputs": [
    {
     "name": "stdout",
     "output_type": "stream",
     "text": [
      "pythot"
     ]
    }
   ],
   "source": [
    "morse = { '.-':'a','-...':'b','-.-.':'c','-..':'d','.':'e','..-.':'f', '--.':'g','....':'h','..':'i','.---':'j','-.-':'k','.-..':'l', '--':'m','-.':'n','---':'o','.--.':'p','--.-':'q','.-.':'r', '...':'s','-':'t','..-':'u','...-':'v','.--':'w','-..-':'x', '-.--':'y','--..':'z'}\n",
    "\n",
    "translate = input(\"모스부호를 입력해 주세요\")\n",
    "\n",
    "for i in translate.split(' '):\n",
    "    print(morse[i], end='')"
   ]
  },
  {
   "cell_type": "code",
   "execution_count": 256,
   "id": "9c3a88b2",
   "metadata": {},
   "outputs": [
    {
     "name": "stdout",
     "output_type": "stream",
     "text": [
      "python\n"
     ]
    }
   ],
   "source": [
    "letter = input (\"모스부호를 입력해 주세요.\")\n",
    "\n",
    "a = letter.split()\n",
    "\n",
    "answer = ''\n",
    "for i in a :\n",
    "    answer += morse[i]\n",
    "\n",
    "print(answer)"
   ]
  },
  {
   "cell_type": "markdown",
   "id": "8001ec22",
   "metadata": {},
   "source": [
    "set 자료형"
   ]
  },
  {
   "cell_type": "markdown",
   "id": "b26dec10",
   "metadata": {},
   "source": [
    "중복을 허용하지 않고, 순서가 없는 데이터\n"
   ]
  },
  {
   "cell_type": "code",
   "execution_count": 257,
   "id": "98c3ae24",
   "metadata": {},
   "outputs": [],
   "source": [
    "s = {1, 2, 3, 4, 2, 3}"
   ]
  },
  {
   "cell_type": "code",
   "execution_count": 258,
   "id": "30ab25f8",
   "metadata": {},
   "outputs": [
    {
     "data": {
      "text/plain": [
       "set"
      ]
     },
     "execution_count": 258,
     "metadata": {},
     "output_type": "execute_result"
    }
   ],
   "source": [
    "type(s)"
   ]
  },
  {
   "cell_type": "code",
   "execution_count": 260,
   "id": "db534478",
   "metadata": {},
   "outputs": [
    {
     "data": {
      "text/plain": [
       "{1, 2, 3, 4}"
      ]
     },
     "execution_count": 260,
     "metadata": {},
     "output_type": "execute_result"
    }
   ],
   "source": [
    "s #중복값 다 없어짐"
   ]
  },
  {
   "cell_type": "code",
   "execution_count": 261,
   "id": "16ac1217",
   "metadata": {},
   "outputs": [],
   "source": [
    "s.add(5)"
   ]
  },
  {
   "cell_type": "code",
   "execution_count": 264,
   "id": "2fcc0685",
   "metadata": {},
   "outputs": [
    {
     "data": {
      "text/plain": [
       "2"
      ]
     },
     "execution_count": 264,
     "metadata": {},
     "output_type": "execute_result"
    }
   ],
   "source": [
    "s.pop() #순서가 없기 때문에 임의의 요소를 빼버림"
   ]
  },
  {
   "cell_type": "code",
   "execution_count": 266,
   "id": "ed9e3309",
   "metadata": {},
   "outputs": [],
   "source": [
    "s.remove(3)"
   ]
  },
  {
   "cell_type": "code",
   "execution_count": 267,
   "id": "1455a664",
   "metadata": {},
   "outputs": [],
   "source": [
    "my_list = [1,2,3,5,1,2,3]"
   ]
  },
  {
   "cell_type": "code",
   "execution_count": 268,
   "id": "635230e0",
   "metadata": {},
   "outputs": [
    {
     "data": {
      "text/plain": [
       "{1, 2, 3, 5}"
      ]
     },
     "execution_count": 268,
     "metadata": {},
     "output_type": "execute_result"
    }
   ],
   "source": [
    "set(my_list)"
   ]
  },
  {
   "cell_type": "code",
   "execution_count": 269,
   "id": "ef4d8e74",
   "metadata": {},
   "outputs": [
    {
     "data": {
      "text/plain": [
       "[1, 2, 3, 5]"
      ]
     },
     "execution_count": 269,
     "metadata": {},
     "output_type": "execute_result"
    }
   ],
   "source": [
    "list(set(my_list))"
   ]
  },
  {
   "cell_type": "code",
   "execution_count": 270,
   "id": "b06f7957",
   "metadata": {},
   "outputs": [
    {
     "data": {
      "text/plain": [
       "[1, 2, 3, 5, 1, 2, 3]"
      ]
     },
     "execution_count": 270,
     "metadata": {},
     "output_type": "execute_result"
    }
   ],
   "source": [
    "my_list"
   ]
  },
  {
   "cell_type": "code",
   "execution_count": 271,
   "id": "f5e41ab6",
   "metadata": {},
   "outputs": [],
   "source": [
    "a = {1,2,3,4}"
   ]
  },
  {
   "cell_type": "code",
   "execution_count": 272,
   "id": "a0df3fcf",
   "metadata": {},
   "outputs": [],
   "source": [
    "b = {3,4,5,6}"
   ]
  },
  {
   "cell_type": "code",
   "execution_count": 273,
   "id": "7f400f25",
   "metadata": {},
   "outputs": [
    {
     "data": {
      "text/plain": [
       "{1, 2, 3, 4, 5, 6}"
      ]
     },
     "execution_count": 273,
     "metadata": {},
     "output_type": "execute_result"
    }
   ],
   "source": [
    "a.union (b)"
   ]
  },
  {
   "cell_type": "code",
   "execution_count": 277,
   "id": "e6dbea08",
   "metadata": {},
   "outputs": [
    {
     "data": {
      "text/plain": [
       "{1, 2, 3, 4, 5, 6}"
      ]
     },
     "execution_count": 277,
     "metadata": {},
     "output_type": "execute_result"
    }
   ],
   "source": [
    "a | b"
   ]
  },
  {
   "cell_type": "code",
   "execution_count": 275,
   "id": "0c441a76",
   "metadata": {},
   "outputs": [
    {
     "data": {
      "text/plain": [
       "{3, 4}"
      ]
     },
     "execution_count": 275,
     "metadata": {},
     "output_type": "execute_result"
    }
   ],
   "source": [
    "a & b #교집합"
   ]
  },
  {
   "cell_type": "code",
   "execution_count": 276,
   "id": "d51508ce",
   "metadata": {},
   "outputs": [
    {
     "data": {
      "text/plain": [
       "{3, 4}"
      ]
     },
     "execution_count": 276,
     "metadata": {},
     "output_type": "execute_result"
    }
   ],
   "source": [
    "a. intersection(b)"
   ]
  },
  {
   "cell_type": "code",
   "execution_count": 278,
   "id": "80abbc02",
   "metadata": {},
   "outputs": [
    {
     "data": {
      "text/plain": [
       "{1, 2}"
      ]
     },
     "execution_count": 278,
     "metadata": {},
     "output_type": "execute_result"
    }
   ],
   "source": [
    "a-b"
   ]
  },
  {
   "cell_type": "code",
   "execution_count": 279,
   "id": "ff744ef3",
   "metadata": {},
   "outputs": [
    {
     "data": {
      "text/plain": [
       "{1, 2}"
      ]
     },
     "execution_count": 279,
     "metadata": {},
     "output_type": "execute_result"
    }
   ],
   "source": [
    "a.difference(b)"
   ]
  },
  {
   "cell_type": "markdown",
   "id": "d094686b",
   "metadata": {},
   "source": [
    "튜플"
   ]
  },
  {
   "cell_type": "markdown",
   "id": "07c3dbf0",
   "metadata": {},
   "source": [
    "리스트와 거의 비슷한 친구\n",
    "초기화 후 편집 불가 ((immutable))\n"
   ]
  },
  {
   "cell_type": "code",
   "execution_count": 280,
   "id": "6e7f3053",
   "metadata": {},
   "outputs": [],
   "source": [
    "t1 = ()\n",
    "t2 = (1,2,3)"
   ]
  },
  {
   "cell_type": "code",
   "execution_count": 281,
   "id": "518de260",
   "metadata": {},
   "outputs": [
    {
     "data": {
      "text/plain": [
       "tuple"
      ]
     },
     "execution_count": 281,
     "metadata": {},
     "output_type": "execute_result"
    }
   ],
   "source": [
    "type(t1)"
   ]
  },
  {
   "cell_type": "code",
   "execution_count": 282,
   "id": "c21a1aab",
   "metadata": {},
   "outputs": [
    {
     "data": {
      "text/plain": [
       "tuple"
      ]
     },
     "execution_count": 282,
     "metadata": {},
     "output_type": "execute_result"
    }
   ],
   "source": [
    "type(t2)\n"
   ]
  },
  {
   "cell_type": "code",
   "execution_count": 283,
   "id": "978e5fc8",
   "metadata": {},
   "outputs": [
    {
     "data": {
      "text/plain": [
       "1"
      ]
     },
     "execution_count": 283,
     "metadata": {},
     "output_type": "execute_result"
    }
   ],
   "source": [
    "t2[0]"
   ]
  },
  {
   "cell_type": "code",
   "execution_count": 285,
   "id": "5233bc40",
   "metadata": {},
   "outputs": [],
   "source": [
    "t4 = 1, 2,3, 4"
   ]
  },
  {
   "cell_type": "code",
   "execution_count": 292,
   "id": "76f18c2f",
   "metadata": {},
   "outputs": [
    {
     "data": {
      "text/plain": [
       "(3, 6, 9)"
      ]
     },
     "execution_count": 292,
     "metadata": {},
     "output_type": "execute_result"
    }
   ],
   "source": [
    "t4"
   ]
  },
  {
   "cell_type": "code",
   "execution_count": 289,
   "id": "8624087c",
   "metadata": {},
   "outputs": [],
   "source": [
    "t4 = 3,6,9"
   ]
  },
  {
   "cell_type": "markdown",
   "id": "279daf48",
   "metadata": {},
   "source": [
    "빼빼로데이\n",
    "\n",
    "빼빼로의 종류는 6가지 맛('누드초코', '아몬드', '초코', '크런키', '크림치즈', '화이트쿠키')이 있었습니다.\n",
    "이벤트 빼빼로는 한가지 맛에 하나만 구매할 수 있습니다.\n",
    "구매한 빼빼로를 오름차순으로 정렬하여 결과를 나타내 주세요.\n",
    "\n",
    "입력1\n",
    "[\"초코\", \"누드초코\", \"크런키\", \"아몬드\", \"초코\", \"누드초코\", \"아몬드\", \"화이트쿠키\", \"초코\", \"초코\"]\n",
    "\n",
    "출력1\n",
    "['누드초코', '아몬드', '초코', '크런키', '화이트쿠키']"
   ]
  },
  {
   "cell_type": "code",
   "execution_count": 294,
   "id": "bedb843d",
   "metadata": {},
   "outputs": [
    {
     "data": {
      "text/plain": [
       "['누드초코', '아몬드', '초코', '크런키', '화이트쿠키']"
      ]
     },
     "execution_count": 294,
     "metadata": {},
     "output_type": "execute_result"
    }
   ],
   "source": [
    "pepero = [\"초코\", \"누드초코\", \"크런키\", \"아몬드\", \"초코\", \"누드초코\", \"아몬드\", \"화이트쿠키\", \"초코\", \"초코\"]\n",
    "\n",
    "answer = list(set(pepero))\n",
    "answer.sort()\n",
    "\n",
    "answer"
   ]
  },
  {
   "cell_type": "markdown",
   "id": "41517af9",
   "metadata": {},
   "source": [
    "영단어갯수세기\n",
    "\n",
    "내가 외운 단어의 개수는 몇개일까요?\n",
    "\n",
    "입력1\n",
    "\"culture experience symbol symbol education symbol effect education affair liberty liberty affair\"\n",
    "\n",
    "출력1\n",
    "7"
   ]
  },
  {
   "cell_type": "code",
   "execution_count": 301,
   "id": "b430739b",
   "metadata": {},
   "outputs": [
    {
     "data": {
      "text/plain": [
       "7"
      ]
     },
     "execution_count": 301,
     "metadata": {},
     "output_type": "execute_result"
    }
   ],
   "source": [
    "word = \"culture experience symbol symbol education symbol effect education affair liberty liberty affair\"\n",
    "\n",
    "word.split()\n",
    "\n",
    "len(set(word.split()))\n",
    "\n"
   ]
  },
  {
   "cell_type": "code",
   "execution_count": 304,
   "id": "bedae7d0",
   "metadata": {},
   "outputs": [
    {
     "ename": "AttributeError",
     "evalue": "'list' object has no attribute 'value'",
     "output_type": "error",
     "traceback": [
      "\u001b[31m---------------------------------------------------------------------------\u001b[39m",
      "\u001b[31mAttributeError\u001b[39m                            Traceback (most recent call last)",
      "\u001b[36mCell\u001b[39m\u001b[36m \u001b[39m\u001b[32mIn[304]\u001b[39m\u001b[32m, line 6\u001b[39m\n\u001b[32m      3\u001b[39m Student3 = [{\u001b[33m\"\u001b[39m\u001b[33mname\u001b[39m\u001b[33m\"\u001b[39m:\u001b[33m\"\u001b[39m\u001b[33mCharlie\u001b[39m\u001b[33m\"\u001b[39m},{\u001b[33m\"\u001b[39m\u001b[33mScore1\u001b[39m\u001b[33m\"\u001b[39m:\u001b[32m95\u001b[39m},{\u001b[33m\"\u001b[39m\u001b[33mScore2\u001b[39m\u001b[33m\"\u001b[39m:\u001b[32m92\u001b[39m},{\u001b[33m\"\u001b[39m\u001b[33mScore3\u001b[39m\u001b[33m\"\u001b[39m:\u001b[32m89\u001b[39m}]\n\u001b[32m      4\u001b[39m Students = [Student1, Student2, Student3]\n\u001b[32m----> \u001b[39m\u001b[32m6\u001b[39m \u001b[43mStudent1\u001b[49m\u001b[43m.\u001b[49m\u001b[43mvalue\u001b[49m()\n",
      "\u001b[31mAttributeError\u001b[39m: 'list' object has no attribute 'value'"
     ]
    }
   ],
   "source": [
    "Student1 = [{\"name\":\"Alice\"},{\"Score1\":90},{\"Score2\":85},{\"Score3\":92}]\n",
    "Student2 = [{\"name\":\"Bob\"},{\"Score1\":78},{\"Score2\":80},{\"Score3\":88}]\n",
    "Student3 = [{\"name\":\"Charlie\"},{\"Score1\":95},{\"Score2\":92},{\"Score3\":89}]\n",
    "Students = [Student1, Student2, Student3]\n",
    "\n",
    "Student1.value()"
   ]
  },
  {
   "cell_type": "code",
   "execution_count": 306,
   "id": "c10b8a12",
   "metadata": {},
   "outputs": [],
   "source": [
    "#dir(__builtins__)"
   ]
  },
  {
   "cell_type": "code",
   "execution_count": null,
   "id": "c7eadfa9",
   "metadata": {},
   "outputs": [],
   "source": [
    "def 함수이름 (매개변수) :\n",
    "    수행할 명령\n",
    "\n",
    "    return 반환 값"
   ]
  },
  {
   "cell_type": "markdown",
   "id": "d71999c4",
   "metadata": {},
   "source": [
    "함수"
   ]
  },
  {
   "cell_type": "code",
   "execution_count": 312,
   "id": "64793f7d",
   "metadata": {},
   "outputs": [],
   "source": [
    "def my_func(a):\n",
    "    print(f\" {a}, 내가 만든 함수입니다\")"
   ]
  },
  {
   "cell_type": "code",
   "execution_count": 314,
   "id": "7142b4ca",
   "metadata": {},
   "outputs": [
    {
     "name": "stdout",
     "output_type": "stream",
     "text": [
      " Hey, 내가 만든 함수입니다\n",
      " Hello, 내가 만든 함수입니다\n",
      " Hi, 내가 만든 함수입니다\n"
     ]
    }
   ],
   "source": [
    "my_func('Hey')\n",
    "my_func('Hello')\n",
    "my_func('Hi')"
   ]
  },
  {
   "cell_type": "code",
   "execution_count": 315,
   "id": "66f2032c",
   "metadata": {},
   "outputs": [],
   "source": [
    "def my_sum(a, b):\n",
    "    result = a+b\n",
    "    return result"
   ]
  },
  {
   "cell_type": "code",
   "execution_count": 316,
   "id": "8d827e9b",
   "metadata": {},
   "outputs": [
    {
     "data": {
      "text/plain": [
       "13"
      ]
     },
     "execution_count": 316,
     "metadata": {},
     "output_type": "execute_result"
    }
   ],
   "source": [
    "my_sum(5,8)"
   ]
  },
  {
   "cell_type": "code",
   "execution_count": 319,
   "id": "b359266d",
   "metadata": {},
   "outputs": [
    {
     "name": "stdout",
     "output_type": "stream",
     "text": [
      "7 12\n"
     ]
    }
   ],
   "source": [
    "num1 = my_sum(3,4)\n",
    "num2 = my_sum(7,5)\n",
    "\n",
    "print(num1, num2)\n"
   ]
  },
  {
   "cell_type": "code",
   "execution_count": 334,
   "id": "5fd0788f",
   "metadata": {},
   "outputs": [
    {
     "data": {
      "text/plain": [
       "10"
      ]
     },
     "execution_count": 334,
     "metadata": {},
     "output_type": "execute_result"
    }
   ],
   "source": [
    "#큰 숫자 반환기\n",
    "\n",
    "def num_max(a,b,c) :\n",
    "    if a-b > 0 :\n",
    "        if a-c>0 :\n",
    "            return a\n",
    "        else :\n",
    "            return c\n",
    "    else :\n",
    "        if b-c>0 :\n",
    "            return b\n",
    "        else :\n",
    "            return c\n",
    "\n",
    "\n",
    "num = num_max(10, -12, 7)\n",
    "num\n"
   ]
  },
  {
   "cell_type": "code",
   "execution_count": 333,
   "id": "831d0455",
   "metadata": {},
   "outputs": [
    {
     "data": {
      "text/plain": [
       "5"
      ]
     },
     "execution_count": 333,
     "metadata": {},
     "output_type": "execute_result"
    }
   ],
   "source": [
    "def max_num (a,b,c):\n",
    "    max_val = a\n",
    "    if b > max_val :\n",
    "        max_val = b\n",
    "    if c > max_val :\n",
    "        max_val = c\n",
    "    return max_val\n",
    "\n",
    "number = max_num(-3, 5, -1)\n",
    "number"
   ]
  },
  {
   "cell_type": "code",
   "execution_count": 339,
   "id": "67b32d8c",
   "metadata": {},
   "outputs": [
    {
     "data": {
      "text/plain": [
       "24"
      ]
     },
     "execution_count": 339,
     "metadata": {},
     "output_type": "execute_result"
    }
   ],
   "source": [
    "def num_min(arr) :\n",
    "    answer = arr[0]\n",
    "    for i in arr:\n",
    "        if answer > i :\n",
    "            answer = i\n",
    "    return answer\n",
    "    \n",
    "\n",
    "num_min([52, 273, 32, 103, 275, 24, 57])"
   ]
  },
  {
   "cell_type": "code",
   "execution_count": 335,
   "id": "d16312b4",
   "metadata": {},
   "outputs": [
    {
     "data": {
      "text/plain": [
       "24"
      ]
     },
     "execution_count": 335,
     "metadata": {},
     "output_type": "execute_result"
    }
   ],
   "source": [
    "def num_min(a, b, c, d, e, f, g):\n",
    "    min_val = a\n",
    "    if b < min_val :\n",
    "        min_val = b\n",
    "    if c < min_val :\n",
    "        min_val = c\n",
    "    if d < min_val :\n",
    "        min_val = d\n",
    "    if e < min_val :\n",
    "        min_val = e\n",
    "    if f < min_val :\n",
    "        min_val = f\n",
    "    if g < min_val :\n",
    "        min_val = g\n",
    "    return min_val\n",
    "\n",
    "number = num_min(52, 273, 32, 103, 275, 24, 57)\n",
    "number"
   ]
  },
  {
   "cell_type": "code",
   "execution_count": 345,
   "id": "9e214f6b",
   "metadata": {},
   "outputs": [
    {
     "ename": "SyntaxError",
     "evalue": "'return' outside function (1269111911.py, line 8)",
     "output_type": "error",
     "traceback": [
      "  \u001b[36mCell\u001b[39m\u001b[36m \u001b[39m\u001b[32mIn[345]\u001b[39m\u001b[32m, line 8\u001b[39m\n\u001b[31m    \u001b[39m\u001b[31mreturn num\u001b[39m\n    ^\n\u001b[31mSyntaxError\u001b[39m\u001b[31m:\u001b[39m 'return' outside function\n"
     ]
    }
   ],
   "source": [
    "def print_even (my_list) :\n",
    "    num = input(\"숫자를 입력해주세요\")\n",
    "    num = my_list[0]\n",
    "for i in my_list:\n",
    "    if i % 2 == 0 :\n",
    "        num = i\n",
    "\n",
    "        return num"
   ]
  },
  {
   "cell_type": "code",
   "execution_count": null,
   "id": "983bbb98",
   "metadata": {},
   "outputs": [],
   "source": [
    "def add (a,b):  # a,b는 매개 변수\n",
    "    return a+b\n",
    "\n",
    "print(add(3,4)) # 3,4는 인수"
   ]
  },
  {
   "cell_type": "code",
   "execution_count": 356,
   "id": "e635a86b",
   "metadata": {},
   "outputs": [],
   "source": [
    "# 여러 개의 입력값을 받는 함수 만들기\n",
    "\n",
    "def add_many(*args):  #(*args) : 이 안으로 들어오는 입력값 변수들을 다 모아서 튜플로 만들어 줌.\n",
    "    print(args)\n",
    "    sum = 0\n",
    "    for i in args :\n",
    "        sum += i\n",
    "    return sum"
   ]
  },
  {
   "cell_type": "code",
   "execution_count": 357,
   "id": "efb2f0db",
   "metadata": {},
   "outputs": [
    {
     "name": "stdout",
     "output_type": "stream",
     "text": [
      "(1, 2, 3, 4, 5, 6, 7)\n"
     ]
    },
    {
     "data": {
      "text/plain": [
       "28"
      ]
     },
     "execution_count": 357,
     "metadata": {},
     "output_type": "execute_result"
    }
   ],
   "source": [
    "add_many(1,2,3,4,5,6,7)"
   ]
  },
  {
   "cell_type": "code",
   "execution_count": 374,
   "id": "1c745751",
   "metadata": {},
   "outputs": [],
   "source": [
    "\n",
    "def add_mul(choice, *args):  #(*args) : 이 안으로 들어오는 입력값 변수들을 다 모아서 튜플로 만들어 줌.\n",
    "    print(choice, args)\n",
    "    if choice == \"add\":\n",
    "        result = 0\n",
    "        for i in args :\n",
    "            result += i\n",
    "        return result\n",
    "    elif choice == \"mul\":\n",
    "        result = 1\n",
    "        for i in args :\n",
    "            result *= i\n",
    "        return result\n",
    "    else:\n",
    "        print (\"연산자 종류 확인 요망 !!\")\n",
    "        result = None\n"
   ]
  },
  {
   "cell_type": "code",
   "execution_count": 375,
   "id": "f0e114ed",
   "metadata": {},
   "outputs": [
    {
     "name": "stdout",
     "output_type": "stream",
     "text": [
      "add (1, 2, 3, 4, 5)\n",
      "mul (1, 2, 3, 4, 5)\n"
     ]
    },
    {
     "data": {
      "text/plain": [
       "120"
      ]
     },
     "execution_count": 375,
     "metadata": {},
     "output_type": "execute_result"
    }
   ],
   "source": [
    "add_mul('add', 1,2,3,4,5)\n",
    "add_mul('mul', 1,2,3,4,5)"
   ]
  },
  {
   "cell_type": "code",
   "execution_count": 376,
   "id": "5071e79a",
   "metadata": {},
   "outputs": [],
   "source": [
    "def add_and_mul (a,b) :\n",
    "    return a+b, a*b"
   ]
  },
  {
   "cell_type": "code",
   "execution_count": 377,
   "id": "5146dddc",
   "metadata": {},
   "outputs": [
    {
     "data": {
      "text/plain": [
       "(9, 18)"
      ]
     },
     "execution_count": 377,
     "metadata": {},
     "output_type": "execute_result"
    }
   ],
   "source": [
    "add_and_mul (3,6)"
   ]
  },
  {
   "cell_type": "code",
   "execution_count": null,
   "id": "99a7842e",
   "metadata": {},
   "outputs": [],
   "source": []
  }
 ],
 "metadata": {
  "kernelspec": {
   "display_name": "Python 3",
   "language": "python",
   "name": "python3"
  },
  "language_info": {
   "codemirror_mode": {
    "name": "ipython",
    "version": 3
   },
   "file_extension": ".py",
   "mimetype": "text/x-python",
   "name": "python",
   "nbconvert_exporter": "python",
   "pygments_lexer": "ipython3",
   "version": "3.11.8"
  }
 },
 "nbformat": 4,
 "nbformat_minor": 5
}
